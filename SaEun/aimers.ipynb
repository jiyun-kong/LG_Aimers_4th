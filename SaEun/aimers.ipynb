{
 "cells": [
  {
   "cell_type": "code",
   "execution_count": 4,
   "id": "cee271ef",
   "metadata": {},
   "outputs": [],
   "source": [
    "import numpy as np\n",
    "import pandas as pd\n",
    "import datetime\n",
    "import holidays\n",
    "\n",
    "import matplotlib.pyplot as plt\n",
    "import seaborn as sns\n",
    "%matplotlib inline\n",
    "\n",
    "import random\n",
    "import os\n",
    "def seed_everything(seed: int = 24):\n",
    "    random.seed(seed)\n",
    "    np.random.seed(seed)\n",
    "    os.environ[\"PYTHONHASHSEED\"] = str(seed)\n",
    "seed_everything(24)"
   ]
  },
  {
   "cell_type": "code",
   "execution_count": 116,
   "id": "cadfae78",
   "metadata": {},
   "outputs": [
    {
     "data": {
      "text/html": [
       "<div>\n",
       "<style scoped>\n",
       "    .dataframe tbody tr th:only-of-type {\n",
       "        vertical-align: middle;\n",
       "    }\n",
       "\n",
       "    .dataframe tbody tr th {\n",
       "        vertical-align: top;\n",
       "    }\n",
       "\n",
       "    .dataframe thead th {\n",
       "        text-align: right;\n",
       "    }\n",
       "</style>\n",
       "<table border=\"1\" class=\"dataframe\">\n",
       "  <thead>\n",
       "    <tr style=\"text-align: right;\">\n",
       "      <th></th>\n",
       "      <th>bant_submit</th>\n",
       "      <th>customer_country</th>\n",
       "      <th>business_unit</th>\n",
       "      <th>com_reg_ver_win_rate</th>\n",
       "      <th>customer_idx</th>\n",
       "      <th>customer_type</th>\n",
       "      <th>enterprise</th>\n",
       "      <th>historical_existing_cnt</th>\n",
       "      <th>id_strategic_ver</th>\n",
       "      <th>it_strategic_ver</th>\n",
       "      <th>...</th>\n",
       "      <th>response_corporate</th>\n",
       "      <th>expected_timeline</th>\n",
       "      <th>ver_cus</th>\n",
       "      <th>ver_pro</th>\n",
       "      <th>ver_win_rate_x</th>\n",
       "      <th>ver_win_ratio_per_bu</th>\n",
       "      <th>business_area</th>\n",
       "      <th>business_subarea</th>\n",
       "      <th>lead_owner</th>\n",
       "      <th>is_converted</th>\n",
       "    </tr>\n",
       "  </thead>\n",
       "  <tbody>\n",
       "    <tr>\n",
       "      <th>0</th>\n",
       "      <td>1.0</td>\n",
       "      <td>/Quezon City/Philippines</td>\n",
       "      <td>AS</td>\n",
       "      <td>0.066667</td>\n",
       "      <td>32160</td>\n",
       "      <td>End-Customer</td>\n",
       "      <td>Enterprise</td>\n",
       "      <td>NaN</td>\n",
       "      <td>NaN</td>\n",
       "      <td>NaN</td>\n",
       "      <td>...</td>\n",
       "      <td>LGEPH</td>\n",
       "      <td>less than 3 months</td>\n",
       "      <td>1</td>\n",
       "      <td>0</td>\n",
       "      <td>0.003079</td>\n",
       "      <td>0.026846</td>\n",
       "      <td>corporate / office</td>\n",
       "      <td>Engineering</td>\n",
       "      <td>0</td>\n",
       "      <td>True</td>\n",
       "    </tr>\n",
       "    <tr>\n",
       "      <th>1</th>\n",
       "      <td>1.0</td>\n",
       "      <td>/PH-00/Philippines</td>\n",
       "      <td>AS</td>\n",
       "      <td>0.066667</td>\n",
       "      <td>23122</td>\n",
       "      <td>End-Customer</td>\n",
       "      <td>Enterprise</td>\n",
       "      <td>12.0</td>\n",
       "      <td>NaN</td>\n",
       "      <td>NaN</td>\n",
       "      <td>...</td>\n",
       "      <td>LGEPH</td>\n",
       "      <td>less than 3 months</td>\n",
       "      <td>1</td>\n",
       "      <td>0</td>\n",
       "      <td>0.003079</td>\n",
       "      <td>0.026846</td>\n",
       "      <td>corporate / office</td>\n",
       "      <td>Advertising</td>\n",
       "      <td>1</td>\n",
       "      <td>True</td>\n",
       "    </tr>\n",
       "    <tr>\n",
       "      <th>2</th>\n",
       "      <td>1.0</td>\n",
       "      <td>/Kolkata /India</td>\n",
       "      <td>AS</td>\n",
       "      <td>0.088889</td>\n",
       "      <td>1755</td>\n",
       "      <td>End-Customer</td>\n",
       "      <td>Enterprise</td>\n",
       "      <td>144.0</td>\n",
       "      <td>NaN</td>\n",
       "      <td>NaN</td>\n",
       "      <td>...</td>\n",
       "      <td>LGEIL</td>\n",
       "      <td>less than 3 months</td>\n",
       "      <td>1</td>\n",
       "      <td>0</td>\n",
       "      <td>0.003079</td>\n",
       "      <td>0.026846</td>\n",
       "      <td>corporate / office</td>\n",
       "      <td>Construction</td>\n",
       "      <td>2</td>\n",
       "      <td>True</td>\n",
       "    </tr>\n",
       "    <tr>\n",
       "      <th>3</th>\n",
       "      <td>1.0</td>\n",
       "      <td>/Bhubaneswar/India</td>\n",
       "      <td>AS</td>\n",
       "      <td>0.088889</td>\n",
       "      <td>4919</td>\n",
       "      <td>End-Customer</td>\n",
       "      <td>Enterprise</td>\n",
       "      <td>NaN</td>\n",
       "      <td>NaN</td>\n",
       "      <td>NaN</td>\n",
       "      <td>...</td>\n",
       "      <td>LGEIL</td>\n",
       "      <td>less than 3 months</td>\n",
       "      <td>1</td>\n",
       "      <td>0</td>\n",
       "      <td>0.003079</td>\n",
       "      <td>0.026846</td>\n",
       "      <td>corporate / office</td>\n",
       "      <td>IT/Software</td>\n",
       "      <td>3</td>\n",
       "      <td>True</td>\n",
       "    </tr>\n",
       "    <tr>\n",
       "      <th>4</th>\n",
       "      <td>1.0</td>\n",
       "      <td>/Hyderabad/India</td>\n",
       "      <td>AS</td>\n",
       "      <td>0.088889</td>\n",
       "      <td>17126</td>\n",
       "      <td>Specifier/ Influencer</td>\n",
       "      <td>Enterprise</td>\n",
       "      <td>NaN</td>\n",
       "      <td>NaN</td>\n",
       "      <td>NaN</td>\n",
       "      <td>...</td>\n",
       "      <td>LGEIL</td>\n",
       "      <td>less than 3 months</td>\n",
       "      <td>0</td>\n",
       "      <td>0</td>\n",
       "      <td>0.003079</td>\n",
       "      <td>0.026846</td>\n",
       "      <td>corporate / office</td>\n",
       "      <td>NaN</td>\n",
       "      <td>4</td>\n",
       "      <td>True</td>\n",
       "    </tr>\n",
       "  </tbody>\n",
       "</table>\n",
       "<p>5 rows × 29 columns</p>\n",
       "</div>"
      ],
      "text/plain": [
       "   bant_submit          customer_country business_unit  com_reg_ver_win_rate  \\\n",
       "0          1.0  /Quezon City/Philippines            AS              0.066667   \n",
       "1          1.0        /PH-00/Philippines            AS              0.066667   \n",
       "2          1.0           /Kolkata /India            AS              0.088889   \n",
       "3          1.0        /Bhubaneswar/India            AS              0.088889   \n",
       "4          1.0          /Hyderabad/India            AS              0.088889   \n",
       "\n",
       "   customer_idx          customer_type  enterprise  historical_existing_cnt  \\\n",
       "0         32160           End-Customer  Enterprise                      NaN   \n",
       "1         23122           End-Customer  Enterprise                     12.0   \n",
       "2          1755           End-Customer  Enterprise                    144.0   \n",
       "3          4919           End-Customer  Enterprise                      NaN   \n",
       "4         17126  Specifier/ Influencer  Enterprise                      NaN   \n",
       "\n",
       "   id_strategic_ver  it_strategic_ver  ...  response_corporate  \\\n",
       "0               NaN               NaN  ...               LGEPH   \n",
       "1               NaN               NaN  ...               LGEPH   \n",
       "2               NaN               NaN  ...               LGEIL   \n",
       "3               NaN               NaN  ...               LGEIL   \n",
       "4               NaN               NaN  ...               LGEIL   \n",
       "\n",
       "    expected_timeline  ver_cus ver_pro ver_win_rate_x ver_win_ratio_per_bu  \\\n",
       "0  less than 3 months        1       0       0.003079             0.026846   \n",
       "1  less than 3 months        1       0       0.003079             0.026846   \n",
       "2  less than 3 months        1       0       0.003079             0.026846   \n",
       "3  less than 3 months        1       0       0.003079             0.026846   \n",
       "4  less than 3 months        0       0       0.003079             0.026846   \n",
       "\n",
       "        business_area business_subarea lead_owner is_converted  \n",
       "0  corporate / office      Engineering          0         True  \n",
       "1  corporate / office      Advertising          1         True  \n",
       "2  corporate / office     Construction          2         True  \n",
       "3  corporate / office      IT/Software          3         True  \n",
       "4  corporate / office              NaN          4         True  \n",
       "\n",
       "[5 rows x 29 columns]"
      ]
     },
     "execution_count": 116,
     "metadata": {},
     "output_type": "execute_result"
    }
   ],
   "source": [
    "df = pd.read_csv('train.csv')\n",
    "test = pd.read_csv('submission.csv')\n",
    "df.head()"
   ]
  },
  {
   "cell_type": "code",
   "execution_count": 119,
   "id": "6d6a4d1a",
   "metadata": {},
   "outputs": [
    {
     "name": "stdout",
     "output_type": "stream",
     "text": [
      "<class 'pandas.core.frame.DataFrame'>\n",
      "RangeIndex: 59299 entries, 0 to 59298\n",
      "Data columns (total 29 columns):\n",
      " #   Column                   Non-Null Count  Dtype  \n",
      "---  ------                   --------------  -----  \n",
      " 0   bant_submit              59299 non-null  float64\n",
      " 1   customer_country         58317 non-null  object \n",
      " 2   business_unit            59299 non-null  object \n",
      " 3   com_reg_ver_win_rate     14568 non-null  float64\n",
      " 4   customer_idx             59299 non-null  int64  \n",
      " 5   customer_type            15338 non-null  object \n",
      " 6   enterprise               59299 non-null  object \n",
      " 7   historical_existing_cnt  13756 non-null  float64\n",
      " 8   id_strategic_ver         3444 non-null   float64\n",
      " 9   it_strategic_ver         1121 non-null   float64\n",
      " 10  idit_strategic_ver       4565 non-null   float64\n",
      " 11  customer_job             40566 non-null  object \n",
      " 12  lead_desc_length         59299 non-null  int64  \n",
      " 13  inquiry_type             58358 non-null  object \n",
      " 14  product_category         39925 non-null  object \n",
      " 15  product_subcategory      9235 non-null   object \n",
      " 16  product_modelname        9229 non-null   object \n",
      " 17  customer_country.1       58317 non-null  object \n",
      " 18  customer_position        59299 non-null  object \n",
      " 19  response_corporate       59299 non-null  object \n",
      " 20  expected_timeline        28436 non-null  object \n",
      " 21  ver_cus                  59299 non-null  int64  \n",
      " 22  ver_pro                  59299 non-null  int64  \n",
      " 23  ver_win_rate_x           18417 non-null  float64\n",
      " 24  ver_win_ratio_per_bu     15304 non-null  float64\n",
      " 25  business_area            18417 non-null  object \n",
      " 26  business_subarea         5526 non-null   object \n",
      " 27  lead_owner               59299 non-null  int64  \n",
      " 28  is_converted             59299 non-null  bool   \n",
      "dtypes: bool(1), float64(8), int64(5), object(15)\n",
      "memory usage: 12.7+ MB\n"
     ]
    }
   ],
   "source": [
    "df.info()"
   ]
  },
  {
   "cell_type": "markdown",
   "id": "3c93e87b",
   "metadata": {},
   "source": [
    "# EDA & 전처리"
   ]
  },
  {
   "cell_type": "code",
   "execution_count": 120,
   "id": "aa78cfc6",
   "metadata": {},
   "outputs": [],
   "source": [
    "# 결측치 비율\n",
    "def missing_value_ratio(df, column_name):\n",
    "    total_rows = len(df)\n",
    "    missing_values = df[column_name].isnull().sum()\n",
    "    missing_ratio = (missing_values / total_rows) * 100\n",
    "    return missing_ratio"
   ]
  },
  {
   "cell_type": "markdown",
   "id": "69137663",
   "metadata": {},
   "source": [
    "# text feature\n",
    "- lead_desc_length\n",
    "- inquiry_type\n",
    "- expected_timeline"
   ]
  },
  {
   "cell_type": "markdown",
   "id": "c75fa53e",
   "metadata": {},
   "source": [
    "## lead_desc_length 고객이 작성한 Lead Description 텍스트 총 길이\n",
    "- 길수록 전환가능성이 높지 않을까?"
   ]
  },
  {
   "cell_type": "code",
   "execution_count": 121,
   "id": "a2216e97",
   "metadata": {},
   "outputs": [
    {
     "data": {
      "text/plain": [
       "(0.0, 0.0)"
      ]
     },
     "execution_count": 121,
     "metadata": {},
     "output_type": "execute_result"
    }
   ],
   "source": [
    "missing_value_ratio(df, 'lead_desc_length'), missing_value_ratio(test, 'lead_desc_length')"
   ]
  },
  {
   "cell_type": "code",
   "execution_count": 122,
   "id": "f7c011a4",
   "metadata": {},
   "outputs": [
    {
     "data": {
      "text/plain": [
       "<AxesSubplot:xlabel='is_converted', ylabel='lead_desc_length'>"
      ]
     },
     "execution_count": 122,
     "metadata": {},
     "output_type": "execute_result"
    },
    {
     "data": {
      "image/png": "[encoded data removed]",
      "text/plain": [
       "<Figure size 432x288 with 1 Axes>"
      ]
     },
     "metadata": {},
     "output_type": "display_data"
    }
   ],
   "source": [
    "sns.boxplot(data =df, y='lead_desc_length', x='is_converted')"
   ]
  },
  {
   "cell_type": "code",
   "execution_count": 123,
   "id": "45c3beba",
   "metadata": {},
   "outputs": [
    {
     "data": {
      "text/plain": [
       "<AxesSubplot:xlabel='lead_desc_length', ylabel='Density'>"
      ]
     },
     "execution_count": 123,
     "metadata": {},
     "output_type": "execute_result"
    },
    {
     "data": {
      "image/png": "[encoded data removed]",
      "text/plain": [
       "<Figure size 720x216 with 2 Axes>"
      ]
     },
     "metadata": {},
     "output_type": "display_data"
    }
   ],
   "source": [
    "#분포 확인\n",
    "plt.figure(figsize=(10, 3))\n",
    "\n",
    "plt.subplot(1, 2, 1)\n",
    "sns.kdeplot(df['lead_desc_length'])\n",
    "\n",
    "plt.subplot(1, 2, 2)\n",
    "sns.kdeplot(test['lead_desc_length'])"
   ]
  },
  {
   "cell_type": "markdown",
   "id": "6516acc6",
   "metadata": {},
   "source": [
    "## inquiry_type 고객의 문의 유형"
   ]
  },
  {
   "cell_type": "code",
   "execution_count": 124,
   "id": "8fa6bbd0",
   "metadata": {},
   "outputs": [
    {
     "data": {
      "text/plain": [
       "(1.5868733030911144, 24.51147789793208)"
      ]
     },
     "execution_count": 124,
     "metadata": {},
     "output_type": "execute_result"
    }
   ],
   "source": [
    "missing_value_ratio(df, 'inquiry_type'), missing_value_ratio(test, 'inquiry_type')"
   ]
  },
  {
   "cell_type": "code",
   "execution_count": 125,
   "id": "c1a3828c",
   "metadata": {},
   "outputs": [
    {
     "data": {
      "text/plain": [
       "72"
      ]
     },
     "execution_count": 125,
     "metadata": {},
     "output_type": "execute_result"
    }
   ],
   "source": [
    "len(df['inquiry_type'].unique())"
   ]
  },
  {
   "cell_type": "code",
   "execution_count": 126,
   "id": "77d507cc",
   "metadata": {},
   "outputs": [
    {
     "data": {
      "text/plain": [
       "array(['Quotation or purchase consultation', 'Product Information',\n",
       "       'Quotation or Purchase Consultation', 'Other',\n",
       "       'Usage or technical consultation', 'Trainings', 'Services',\n",
       "       'Sales Inquiry', 'Etc.', 'Technical Support',\n",
       "       'Usage or Technical Consultation', 'Technical Consultation',\n",
       "       'Request for Partnership', nan, 'sales', 'technical',\n",
       "       'usage or technical consultation',\n",
       "       'usage_or_technical_consultation', 'other',\n",
       "       'quotation_or_purchase_consultation', 'other_', 'Request a Demo',\n",
       "       'Request for Distributorship', 'Request for quotation or purchase',\n",
       "       'Request for technical consulting', '(Select ID_Needs)',\n",
       "       'One Quick:Flex', 'AIO', 'Needs', 'Purchase',\n",
       "       'technical_consultation', 'Customer Suggestions', 'Event Inquiry',\n",
       "       'Others', 'OEM/ODM Request', 'Hospital TV', 'others',\n",
       "       'i want to know the details about it', 'EDUCATIONAL EQUIPMENTS',\n",
       "       'Digital platform', 'TV interactive', 'teach',\n",
       "       'Display Textbook and photos', 'High inch 86 / 98 or 110',\n",
       "       'quotation_', 'Purchase or Quotation', 'display product',\n",
       "       'first Info and pricing', 'Sales inquiry',\n",
       "       'estoy buscando para Ecuador este producto LG MAGNIT micro LED, para un cliente de 138 pulgadas, con envió marítimo.',\n",
       "       'Hola me pueden cotizar 19 pantallas interactivas de 100 pulgadas entregadas en Guayaquil -Ecuador.',\n",
       "       'window facing product',\n",
       "       'Vui lòng báo giá giúp mình sản phẩm đo thân nhiệt Xin cảm ơn',\n",
       "       'Probeam precio', 'Quotation or Purchase consultation',\n",
       "       'Hotel TV products', 'Pantallas Interactivas para Clinicas',\n",
       "       'Solicito apoyo para realizar cotizacion de los dispositivos que ofrecen en la solución\\xa0One Quick:\\xa0',\n",
       "       'Intégrateur historique du George V', 'ETC.', 'IDB',\n",
       "       'Not specified', 'for school', 'Media Inquiry', 'LED Signage',\n",
       "       'Standalone', 'Video Wall',\n",
       "       'Toi muon tim hieu thong tin ky thuat, gia ca cua sp de su dung',\n",
       "       'tôi cần tham khảo giá và giải pháp từ LG',\n",
       "       'Preciso de um monitor médico para radiografia convencional e tomogrtafia.',\n",
       "       'VRF', 'Evento_SdelEstero'], dtype=object)"
      ]
     },
     "execution_count": 126,
     "metadata": {},
     "output_type": "execute_result"
    }
   ],
   "source": [
    "df['inquiry_type'].unique()"
   ]
  },
  {
   "cell_type": "code",
   "execution_count": 127,
   "id": "6ee841d0",
   "metadata": {},
   "outputs": [
    {
     "data": {
      "text/plain": [
       "array([nan, 'Quotation or Purchase Consultation', 'Product Information',\n",
       "       'Technical Consultation', 'Others', 'Request for Partnership',\n",
       "       'Usage or Technical Consultation', 'Services',\n",
       "       'Customer Suggestions', 'Request a Demo', 'Trainings', 'Other',\n",
       "       'OEM/ODM Request', 'Media Inquiry', 'other_',\n",
       "       'Request for Distributorship'], dtype=object)"
      ]
     },
     "execution_count": 127,
     "metadata": {},
     "output_type": "execute_result"
    }
   ],
   "source": [
    "test['inquiry_type'].unique()"
   ]
  },
  {
   "cell_type": "code",
   "execution_count": 128,
   "id": "190244e0",
   "metadata": {},
   "outputs": [],
   "source": [
    "def clean_inquiry_data(df):\n",
    "    # 'inquiry_type'컬럼 소문자로 변경\n",
    "    df['inquiry_type'] = df['inquiry_type'].str.lower()\n",
    "\n",
    "    # 대소문자 및 언어는 영어로 통일\n",
    "    mapping_dict = {\n",
    "        'quotation or purchase consultation': 'quotation or purchase consultation',\n",
    "        'product information': 'product information',\n",
    "        'other': 'other',\n",
    "        'usage or technical consultation': 'usage or technical consultation',\n",
    "        'trainings': 'trainings',\n",
    "        'services': 'services',\n",
    "        'sales inquiry': 'sales inquiry',\n",
    "        'etc.': 'etc.',\n",
    "        'technical support': 'technical support',\n",
    "        'request for partnership': 'request for partnership',\n",
    "        'nan': 'nan',\n",
    "        'request a demo': 'request a demo',\n",
    "        'request for distributorship': 'request for distributorship',\n",
    "        'request for quotation or purchase': 'request for quotation or purchase',\n",
    "        '(select id_needs)': '(select id_needs)',\n",
    "        'one quick:flex': 'one quick:flex',\n",
    "        'aio': 'aio',\n",
    "        'needs': 'needs',\n",
    "        'purchase': 'purchase',\n",
    "        'customer suggestions': 'customer suggestions',\n",
    "        'event inquiry': 'event inquiry',\n",
    "        'others': 'others',\n",
    "        'oem/odm request': 'oem/odm request',\n",
    "        'hospital tv': 'hospital tv',\n",
    "        'i want to know the details about it': 'i want to know the details about it',\n",
    "        'educational equipments': 'educational equipments',\n",
    "        'digital platform': 'digital platform',\n",
    "        'tv interactive': 'tv interactive',\n",
    "        'teach': 'teach',\n",
    "        'display textbook and photos': 'display textbook and photos',\n",
    "        'high inch 86 / 98 or 110': 'high inch 86 / 98 or 110',\n",
    "        'display product': 'display product',\n",
    "        'first info and pricing': 'first info and pricing',\n",
    "        'estoy buscando para ecuador este producto lg magnit micro led, para un cliente de 138 pulgadas, con envió marítimo.': 'lg magnit micro led inquiry',\n",
    "        'hola me pueden cotizar 19 pantallas interactivas de 100 pulgadas entregadas en guayaquil -ecuador.': 'interactive screens quotation',\n",
    "        'window facing product': 'window facing product',\n",
    "        'vui lòng báo giá giúp mình sản phẩm đo thân nhiệt xin cảm ơn': 'body temperature measurement device inquiry',\n",
    "        'probeam precio': 'probeam pricing inquiry',\n",
    "        'hotel tv products': 'hotel tv products',\n",
    "        'pantallas interactivas para clinicas': 'interactive screens for clinics',\n",
    "        'solicito apoyo para realizar cotizacion de los dispositivos que ofrecen en la solución one quick:': 'one quick solution quotation support',\n",
    "        'intégrateur historique du george v': 'george v historical integrator',\n",
    "        'idb': 'idb',\n",
    "        'not specified': 'not specified',\n",
    "        'for school': 'school inquiry',\n",
    "        'media inquiry': 'media inquiry',\n",
    "        'led signage': 'led signage inquiry',\n",
    "        'standalone': 'standalone inquiry',\n",
    "        'video wall': 'video wall inquiry',\n",
    "        'toi muon tim hieu thong tin ky thuat, gia ca cua sp de su dung': 'technical information and pricing inquiry',\n",
    "        'tôi cần tham khảo giá và giải pháp từ lg': 'lg product pricing and solutions inquiry',\n",
    "        'preciso de um monitor médico para radiografia convencional e tomogrtafia.': 'medical monitor for conventional and tomography inquiry',\n",
    "        'vrf': 'vrf inquiry',\n",
    "        'evento_sdelestero': 'event inquiry'\n",
    "    }\n",
    "\n",
    "    # mapping_dict를 이용하여 값 변환\n",
    "    df['inquiry_type'] = df['inquiry_type'].map(mapping_dict)\n",
    "\n",
    "    group_mapping = {\n",
    "        'quotation/purchase': ['quotation or purchase consultation', 'request for quotation or purchase', 'purchase or quotation', 'quotation_', 'purchase', 'interactive screens quotation'],\n",
    "        'product inquiry': ['digital platform', 'media inquiry', 'probeam pricing inquiry', 'first info and pricing', 'probeam pricing inquiry', 'lg product pricing and solutions inquiry', 'led signage inquiry', 'standalone inquiry', 'video wall inquiry', 'hotel tv products','tv interactive', 'interactive screens for clinics', 'vrf inquiry', 'hospital tv', 'i want to know the details about it', 'lg magnit micro led inquiry', 'window facing product', 'body temperature measurement device inquiry', 'display textbook and photos', 'high inch 86 / 98 or 110', 'window facing product', 'lg magnit micro led inquiry', 'interactive screens quotation', 'window facing product', 'body temperature measurement device inquiry', 'sales inquiry', 'sales', 'sales inquiry', 'aio', 'needs', 'lg product pricing and solutions inquiry', 'medical monitor for conventional and tomography inquiry', 'product information', 'display product','one quick:flex'],\n",
    "        'technical consultation': ['technical information and pricing inquiry', 'usage or technical consultation', 'technical support', 'usage or technical consultation', 'technical consultation', 'usage_or_technical_consultation', 'technical', 'technical_consultation'],\n",
    "        \n",
    "        'training and education': ['trainings', 'teach', 'educational equipments', 'school inquiry', 'idb'],\n",
    "        'services': ['event inquiry', 'services'],\n",
    "        'business partnership': ['request a demo', 'customer suggestions', 'request for partnership', 'request for distributorship', 'oem/odm request', 'george v historical integrator', 'idb'],\n",
    "        'uncategorized': ['other', 'etc.', 'others', 'other_', 'not specified', '(select id_needs)', 'nan']\n",
    "\n",
    "    }\n",
    "\n",
    "    # inquiry_type 그루핑 함수 정의\n",
    "    def categorize_inquiry(inquiry_type):\n",
    "        for category, inquiries in group_mapping.items():\n",
    "            if inquiry_type in inquiries:\n",
    "                return category\n",
    "        return 'uncategorized'\n",
    "\n",
    "    df['inquiry_category'] = df['inquiry_type'].apply(categorize_inquiry)\n",
    "\n",
    "    return df\n"
   ]
  },
  {
   "cell_type": "code",
   "execution_count": 129,
   "id": "bc5a6ae4",
   "metadata": {},
   "outputs": [
    {
     "data": {
      "text/plain": [
       "quotation/purchase        42279\n",
       "product inquiry           11247\n",
       "uncategorized              3039\n",
       "technical consultation     1292\n",
       "business partnership        574\n",
       "training and education      447\n",
       "services                    421\n",
       "Name: inquiry_category, dtype: int64"
      ]
     },
     "execution_count": 129,
     "metadata": {},
     "output_type": "execute_result"
    }
   ],
   "source": [
    "df = clean_inquiry_data(df)\n",
    "df['inquiry_category'].value_counts()"
   ]
  },
  {
   "cell_type": "code",
   "execution_count": 130,
   "id": "a943cd4e",
   "metadata": {},
   "outputs": [
    {
     "data": {
      "text/plain": [
       "quotation/purchase        3465\n",
       "uncategorized             1549\n",
       "business partnership        80\n",
       "product inquiry             70\n",
       "technical consultation      52\n",
       "services                    34\n",
       "training and education      21\n",
       "Name: inquiry_category, dtype: int64"
      ]
     },
     "execution_count": 130,
     "metadata": {},
     "output_type": "execute_result"
    }
   ],
   "source": [
    "test = clean_inquiry_data(test)\n",
    "test['inquiry_category'].value_counts()"
   ]
  },
  {
   "cell_type": "code",
   "execution_count": 131,
   "id": "da832516",
   "metadata": {},
   "outputs": [
    {
     "data": {
      "text/plain": [
       "<Figure size 2160x1080 with 0 Axes>"
      ]
     },
     "metadata": {},
     "output_type": "display_data"
    },
    {
     "data": {
      "image/png": "[encoded data removed]",
      "text/plain": [
       "<Figure size 432x288 with 1 Axes>"
      ]
     },
     "metadata": {},
     "output_type": "display_data"
    }
   ],
   "source": [
    "# 고객의 문의 유형별 전환비율\n",
    "\n",
    "category_counts = df.groupby(['inquiry_category', 'is_converted']).size().unstack(fill_value=0)\n",
    "\n",
    "# 'is_converted'가 True인 비율 계산\n",
    "category_counts['true_ratio'] = category_counts[True] / (category_counts[True] + category_counts[False])\n",
    "\n",
    "# 시각화\n",
    "plt.figure(figsize=(30, 15))\n",
    "\n",
    "# seaborn 스타일 설정\n",
    "sns.set_style(\"whitegrid\")\n",
    "\n",
    "# 색상 팔레트 설정\n",
    "colors = sns.color_palette(\"pastel\")\n",
    "\n",
    "# 그래프 생성\n",
    "ax = category_counts.plot(kind='bar', stacked=True, color=colors)\n",
    "\n",
    "# 텍스트 스타일 조정\n",
    "for i, value in enumerate(category_counts['true_ratio']):\n",
    "    ax.text(i, value, f'{value:.2f}', ha='center', va='bottom', color='black')\n",
    "\n",
    "# 그래프 제목 및 축 라벨 스타일 조정\n",
    "plt.title('Conversion Ratio by Inquiry Category', fontsize=16)\n",
    "plt.xlabel('Inquiry Category', fontsize=14)\n",
    "plt.ylabel('Count', fontsize=14)\n",
    "plt.xticks(rotation=45, ha='right', fontsize=12)\n",
    "plt.yticks(fontsize=12)\n",
    "plt.legend(title='is_converted', fontsize=12, title_fontsize='14', loc='upper right')\n",
    "\n",
    "# 그래프 출력\n",
    "plt.tight_layout()\n",
    "plt.show()"
   ]
  },
  {
   "cell_type": "markdown",
   "id": "75735bc1",
   "metadata": {},
   "source": [
    "# expected_timeline"
   ]
  },
  {
   "cell_type": "code",
   "execution_count": 132,
   "id": "8533625b",
   "metadata": {},
   "outputs": [
    {
     "data": {
      "text/plain": [
       "(52.04640887704684, 45.68393094289508)"
      ]
     },
     "execution_count": 132,
     "metadata": {},
     "output_type": "execute_result"
    }
   ],
   "source": [
    "missing_value_ratio(df, 'expected_timeline'), missing_value_ratio(test, 'expected_timeline')"
   ]
  },
  {
   "cell_type": "code",
   "execution_count": 133,
   "id": "7d64b767",
   "metadata": {},
   "outputs": [
    {
     "data": {
      "text/plain": [
       "array(['less than 3 months', nan, '3 months ~ 6 months',\n",
       "       '9 months ~ 1 year', 'more than a year', '6 months ~ 9 months',\n",
       "       'quote has been sent to customer.',\n",
       "       'partner was exploring on eol model for some requiremeent. no designated sales or closure expected hence closing in the system.',\n",
       "       'already close in july purchse with rd',\n",
       "       'client not interested in product.. receing call and not answering properly',\n",
       "       'being followed up', 'being followed up.',\n",
       "       'repeated inquiry from client. he was just inquiring but have not confimred on purchase. we have tried mulitple times but client is not interested in buying.',\n",
       "       'update- 7th aug--demo given. customer will confirm next week',\n",
       "       \"tried to reach him multipe times from last 7 days but couldn't get through\",\n",
       "       'details send', 'discused with ankit in dehli',\n",
       "       'requires detail for tender. no purchase requirement right now.',\n",
       "       'partner is into static signages. he need to connect for digital signage but he himself is manufacturer. although a mail initaited for any requirements with led team to take it ahead. as of now, there is no scope hence closing in system.',\n",
       "       'the client is not having any requirement hence closig in system. although the details of idb are mailed to client.',\n",
       "       'not require',\n",
       "       'discussed with client details mailed. they have budge issue for now so they wont buy hence closing in yhe system.',\n",
       "       'he is looking for video wall & idb for his office. our bdo jayant is in touch with him and sharing the required details to customer.',\n",
       "       'details shared', 'demo to be aligned',\n",
       "       'il220100042906 - repeat inquiry hence closing this in system.',\n",
       "       'update- 13th spet--follow up to be done on 15th sept',\n",
       "       'details shared with customer. as on 4th may- tried multiple times but not reachable',\n",
       "       'less than 6 months',\n",
       "       'partner is already in touch with our rd, orno. the partner needs to cross check on the information as the size is changed from 49 to 50 now. closing the opprtunity as its existing with rd.',\n",
       "       'rnr', 'budget issue', 'scheduling a meeting',\n",
       "       'customer want demo of idb. he will come for demo in next week. after following up with customer multiple times there is no update. lead has been forwarded to rd.',\n",
       "       'discussed with client. details mailed for onequick, they are not planning to buy the same for now hence closing in the system.',\n",
       "       'already shared quotation through si.', 'quotation shared.',\n",
       "       'budget low hence client have not went ahead.', 'duplicate lead',\n",
       "       'invalid lead', 'demo scheduled for first week feb',\n",
       "       'the client budget is within 1 lacs they need 55 inch aio solution. as per discussion, they are comparing with jabra and we proposed to check if they need only displays. but due to budget contraint, they are dropping the idea.',\n",
       "       'forwarded to bdo, being followed up',\n",
       "       'the partner is checking price for an ongoing case of barc. we have discussed on new case with the partner.its useful to take our discussion further for new inquries.closing the opportunity in system as of now as its made only for cross checking prices.',\n",
       "       'october 2022', '3_months_~_6_months',\n",
       "       'spoke with custome he want 43\" tv',\n",
       "       'details shared with customer, he will update on further action after evaluating other brands as well.',\n",
       "       'don’t have budget',\n",
       "       'spoke with customer, details needs to share on mail. also they want demo',\n",
       "       'client shall get back for exploring demo of idb, post that they will decide on procuring the same.',\n",
       "       'details shared with partner. he has quoted in our existing customer only.',\n",
       "       'already in discussion with partner from bangalore (kohinoor) and with mr. indraneel from corporate office',\n",
       "       'details shared.', 'reuired for office. asked to share quotation',\n",
       "       'require demo price send', 'size not available',\n",
       "       'eol model new model quote requirment after 30 days.',\n",
       "       'need to discuss with client in next two months. they need to check the product and accridngly proceed for personal use.',\n",
       "       'spoken to client, he will check if they need demo and confirm',\n",
       "       'discussed with the client, tr3bg & one quick works demo scheduled on 27th july 2022.post demo they will decide on procuring the unit.',\n",
       "       \"didn't respond to calls\",\n",
       "       'is an interior designer. working on turnkey projects. mr bhuvnesh is in contact and shared specs and prices.',\n",
       "       '29thsep2021:-no such requirement as of now',\n",
       "       'quotation shared in communication',\n",
       "       'he want demo in aurangabad, details shared with rd',\n",
       "       'purchase planning after 3 months',\n",
       "       'client was driving and asked to call back later, will folloup and keep posted.',\n",
       "       '09-02-2022 requested for boq of requirement',\n",
       "       'converted this lead into opportunity.',\n",
       "       'discussed with client they need for csr activity. prices expectation is very much low.',\n",
       "       'demo scheduled for 24th oct', 'details send require demo',\n",
       "       'discussed with client. we need to align demo. the expectation is connecting apple devices but not mandatory. once demo is done, we shall update',\n",
       "       'require demo', 'discussed with client. will plan for demo.',\n",
       "       'need to arrange quote and demo.',\n",
       "       'client is looking for 86\" display with vc solution, they will go for demo next week and decide on procuring our tr3dj, details shared with client on mail.',\n",
       "       'quote sent to customer.', 'under discussion',\n",
       "       'remarks : customer looking for 65 inches and 75 inches  each 1 qty',\n",
       "       'meeting planned for further discussion', 'less_than_3_months',\n",
       "       'customer will come for demo in next week, than he will decide further',\n",
       "       'he want demo next week',\n",
       "       'call and discused to custome customer wants demo.',\n",
       "       'demo planned, will update further status once its completed',\n",
       "       'quote sent, the client is required demo in june',\n",
       "       'quote shared with customer, lead shared with partner to take it further.',\n",
       "       'will come for the demo', 'customer has not answering call',\n",
       "       'discussed with client, he shall send the details of their office requirement',\n",
       "       'tried calling the client, no response from client, i have mailed idb details, will keep follow up & update',\n",
       "       'client was busy, asked to call back later, interested in exploring our idb',\n",
       "       'quote send meeting pending', 'quote send',\n",
       "       'tried reaching out to client no response to callls so i have shared the datasheet, shalll folllllow up and update',\n",
       "       'not interested', '(select id_timeline)',\n",
       "       'client is not responding calls, following up and keep the update tracked',\n",
       "       'demo aligned for client',\n",
       "       'demo completed, customer asked to come feb 10th for closure.',\n",
       "       'call and discused no requirement.',\n",
       "       'demo done and details shared', 'call after 3 june',\n",
       "       'quote send require demo.', 'call back later',\n",
       "       'spoke with customer, will be sharing details on email.',\n",
       "       'quote send next month require',\n",
       "       'quote send require demo in next week.',\n",
       "       'client was keen to explore our idb sku, in follow up',\n",
       "       'he want demo next month at pune - 15 may',\n",
       "       'aggressive price required', 'fu under progress.', 'order taken',\n",
       "       'discussed with client. demo aligned. once done, will update.',\n",
       "       'proposal submitted , due to covid md is not comin to office for the meeting.',\n",
       "       '14th aug- aggressive price required as he has got price from outside delhi',\n",
       "       'they are consultant and i am already in touch with customer.',\n",
       "       'less than 3 months ,meeting with the customer for the more details and tentative boq will ne 32 and 43',\n",
       "       'he want physical demo of tr3bf in nashik. but there budget is also very low. so first he will discuss with management on budget then confirm back for demo',\n",
       "       'demo done', 'get back in 1 wk',\n",
       "       'detail shared with him on email. he is looking for one unit of 65 inch for his conference room',\n",
       "       'already in touch with customer',\n",
       "       'mr rajnikant is allign with the client.',\n",
       "       'spoke with her and shared the details for signage displays.',\n",
       "       'discussed with client, quote sent.',\n",
       "       'he is looking for an interactive display. discussed with client, will update as the case progress.',\n",
       "       'we are already in touch with customer thru partner',\n",
       "       \"details shared on whatsapp, he'll revert back.\",\n",
       "       'customer has not answering call / quotation has been send to customer',\n",
       "       'spoken to client, he will connect once he discuss on requirement',\n",
       "       'require quote',\n",
       "       'customer visit at uv business and see the demo within 2 to 3 days.',\n",
       "       'they are having requirement of 40 displays. customer need aggressive pricing than samsung.',\n",
       "       'already in touch with customer from last 10 days. dropping it because we are already in touch',\n",
       "       'his budget is very low but we are trying to convince him for 65 inch',\n",
       "       'discussed with client.they are looking for aio solution with vc. they will call after 20th for the demo and then purchase through gem.',\n",
       "       'discussed with the client. prices shared for onequick and idb on mail. customer to confirm about demo of the sku and finalise on procurement.',\n",
       "       'discussed with the client. they are interersted in our tr3dj series demo planned for 29th june post they will plan on procurement. will keep update.',\n",
       "       'discussed with the client. asked to call back on monday will keep a follow up.',\n",
       "       'bodeli, requirement pending new quote send close in this month end.',\n",
       "       '3 months', 'received po.',\n",
       "       'customer not answering call, will call him again and update',\n",
       "       'september', 'december 2022', 'november 2022',\n",
       "       'no contact number, i have dropped a email requesting for the same.',\n",
       "       'no further revert & clarity after sharing details.',\n",
       "       \"didn't respond\", 'fu under progress',\n",
       "       'he client is not having any requirement hence closig in system. although the details of idb are mailed to client.',\n",
       "       'he is looking for display for his restaurant. he has asked to contact him after 1 month as restaurant work is under progress',\n",
       "       'his budget is very low.', \"couldn't connect\",\n",
       "       'not answering call | as on 11th june- customer phone is not reachable. i am dropping this lead and forwarding to partner.',\n",
       "       'looking for active led in a range of 5 lakhs . not a prospetive buyer',\n",
       "       'our partner, vis networks is working on this inquiry and client is cross-checking the prices. hence closing in the system.',\n",
       "       'discussed with client. details mailed to client. no budgets for now wont buy hence closing in the system',\n",
       "       'the client is not having any requirement, he was only browsing through the produt hence closig in system. although the details of idb are mailed to client.',\n",
       "       'not reachable', 'not reachable , lead shared with partner',\n",
       "       'no requirement of this time', 'no requirement', 'cms reqired',\n",
       "       'not required', 'not answering call, will try to reach him again.',\n",
       "       'looking for air conditioners', 'no reqirements',\n",
       "       'withdrawn the decission to purchase', 'asked to call next week',\n",
       "       'asked to call on 4th may',\n",
       "       'discussed with client. they are not evaluatuating idb as of now, they have no plans to buy hence closing in the system.',\n",
       "       'less than 3 months- outdoor led requiment',\n",
       "       'looking for outdoor display. cusotmer has no clarity on the solution. email shared for understanding and waiting for reply',\n",
       "       'customer ask to call back tomorrow',\n",
       "       'details shared with customer on mai',\n",
       "       'details shared with customer on mail', 'not lifted, call later',\n",
       "       'asked to send details',\n",
       "       'the client is not having any requirement, she was only browsing through the produt hence closig in system. although the details of idb are mailed to client.',\n",
       "       'not answering call, details shared with rd',\n",
       "       'purchased from binary @ 1.23l',\n",
       "       'details shared for 75tr, followup in first week of oct',\n",
       "       'details shared fu under progress',\n",
       "       'customer is looking for residential 43 inch display for home use',\n",
       "       'meeting planned nextweek.', 'dropped. contact no not valid',\n",
       "       'client not anwering calls and asked there is no requirement. he was trying to check prices for one 65 touch requirement of existing client.',\n",
       "       'needs hotel tv after 4 months, will call us.',\n",
       "       'dont have any immediate requirement. he may purchase after june',\n",
       "       'treid many times but phone not reachable', 'not answering call',\n",
       "       'require 65 inch idb under 80k',\n",
       "       'not responding, details shared with local rd', \"couldn't conect\",\n",
       "       'he just need budgetory pricing. we have shared the details with him and requested him to come for demo',\n",
       "       'need to call on friday 27th', 'busy. need to call back',\n",
       "       'discussed with client. they have no budgets for purchase for now, they wont buy hence closing in the system.',\n",
       "       'already in touch with there team',\n",
       "       'details shared with concern person. will ask bdo to follow up',\n",
       "       'drop not willing to buy now.. will do in future.. details shared on whatsap',\n",
       "       'due to financial reasons, client have dropped purchase plan. although the details of idb are mailed to client.',\n",
       "       '9_months_~_1_year', 'lead belongs to maharashtra',\n",
       "       'client is not looking now and he was interested with only inbuilt ops option. hence closing in system as he is not responding to calls.',\n",
       "       'requirement of 65tr3dj –  demo reqired, lead shared with rd',\n",
       "       'requirement of 75tr3dj –  demo required',\n",
       "       'same as lead no  il220300046498 hence dropping. duplicate lead.',\n",
       "       'not reachable , details shared with rd',\n",
       "       'due to budget issue, customer has bought maxhub panel.',\n",
       "       'next week he will come for demo at lg office',\n",
       "       'his budget is under 50k only', 'not lifted',\n",
       "       'he will call back if needed', 'its bihar customer',\n",
       "       'requirement of 65tr3dj and customer want demo, details shared with rd',\n",
       "       'connected with partner for studio setup with camera',\n",
       "       'quote shared but there budget is very low',\n",
       "       'call back again on 30/04',\n",
       "       \"tried to reach him multiple times, but couldn't get thru.\",\n",
       "       '6_months_~_9_months',\n",
       "       'he want demo in sangli, i have looped with local partner.',\n",
       "       'not answering call, shared lead with rd',\n",
       "       'drop no plan for purchase',\n",
       "       'not answering call, lead shared with rd', 'budget issue.',\n",
       "       'customer need shortthrow projector',\n",
       "       'rajnikant is working in this case ho in ahmedabad and its under process.',\n",
       "       'quotation shared with customer', 'connect with partner',\n",
       "       'not reachable, i had shared lead with partner',\n",
       "       'requirement of 65tr3dj –  demo required', 'asked to call later.',\n",
       "       'no drop this lead, no budget!', 'no response.',\n",
       "       'discussed with client, details mailed they are not planning to purchase for now hence closing in the system.',\n",
       "       'finance and accounting consultant. inquired foe 43 inch aio but dont have plans to buy. details discussed.',\n",
       "       'idb detais send', 'not responding tried many times',\n",
       "       'update- call to be made on tuesday',\n",
       "       'discussion to be done with customer',\n",
       "       'update- 4th aug- customer asked to call on monday',\n",
       "       'known partner and already working on a case. only cross checking prices hence dropping.',\n",
       "       'dropped.. have purchased cloudwalker', 'couldnt connect',\n",
       "       'quotation sent – 75tr3dj , work in progress, he will buy after 2 months. he has not even seen the quote yet.',\n",
       "       'requirement of 75tr3dj –  demo, details shared with rd',\n",
       "       'drop, still no plan for purchase',\n",
       "       'requirement of idb, budget is very low. shared details on whatsapp. 1 unit required. rd is following up.',\n",
       "       'not interested in commercial tv.s',\n",
       "       'he asked to share budgetory quote, he will check and confirm if he will require the product.',\n",
       "       'customer phone is gets switched off',\n",
       "       'already our customer, have shared prices for new requirement',\n",
       "       'known partner and we have installed 3 video walls pan india for cctv. we supplied 49vl5b at rs. 62000 and then again 49vl5f at rs. 71000.now the available model is 49vl5g at 80000 + which partner is rechecking and hence made inquiry.closing the inquiry si',\n",
       "       'purchase vu brand', 'custome purchase  consumer product',\n",
       "       'delhi enquirey',\n",
       "       'client have seen the demo. he needed for bigger room and the camera quality and speaker tracking were the main required feature. as of now, his budget is around 2 lacs and need bigger size solution. there is no response from client post demo hence closing',\n",
       "       'budget problem.',\n",
       "       'customer has not answering call / customer want 86\" interactive display, he will purchase within next 6 month, we are forwarding to local rd to take this further',\n",
       "       'spoke with customer, he is looking for dot led product in 42 inch, i have suggested him our 43 inch signage but he want fully outdoor led. i have shared the details of our 43 inch display',\n",
       "       'customer purchase benq for price differance',\n",
       "       'customer want product t 15000',\n",
       "       'mobile is switched off. tried 3 times',\n",
       "       'he want 98 inch in below 2 lacs', 'phone swtiched off',\n",
       "       'dropped, requires device like one quick share to be used with samsung tv',\n",
       "       'drop, budget problem now phone not respondig',\n",
       "       'he want 65 inch at 50k',\n",
       "       'customer will be coming for demo on 28th may. customer did not came for demo. i have shared details with rd to take it further. hence dropping this lead',\n",
       "       'custome has not receive call. as on 31st may- spoke with customer, he will come for demo in next week.14-06-2022',\n",
       "       'quote shared with customer, he will confirm after 2 months. lead shared with partner.',\n",
       "       'details shared with rd for further action,',\n",
       "       'tried to reach him but no response. i will call him again. 18th nov- i called him again and he will send the requirement on mail.',\n",
       "       'connecting for issue', \"didn't pickup the call\",\n",
       "       'he is comparing with senses which is local brand.',\n",
       "       'client was inquiring for prices. already quoted by few partners. they even purchased as per recent update but client has not confiermed partner name.',\n",
       "       'forwarded to bdo to followup.',\n",
       "       'details shared, being followed up', 'repeat enquiry',\n",
       "       'he needs for home purpose and is a consumer client. spoke and guided on the details and channel. not a b2b requirement.',\n",
       "       'already touch with customers', \"dind't respond\",\n",
       "       'tried to reach several times but no response',\n",
       "       \"tried contact him but couldn't able to connect. lead forwarded to rd\",\n",
       "       'he want demo in latur. and also dont have much budget. partner followed up multiple times but no response.',\n",
       "       'recently no requirement, dropped',\n",
       "       'discussed with the client they purchased 65um3df from the channel. unable to track the supplier. hence closing in the system. mail sent to client for our display range.',\n",
       "       'uttarpradesh state lead',\n",
       "       'requirement of 75tr3dj –  demo, lead shared with mumbai team.',\n",
       "       'discussed and shared details with client for digital signage. they are not planning to purchse the same currently hence closing in the system.',\n",
       "       'concerned person not available, will call later',\n",
       "       'tried couple of times but he is not responding. we will try again',\n",
       "       'less then 6 months', 'more_than_a_year', 'more then 3 months',\n",
       "       'not interested at the moment',\n",
       "       'quotation shared for ultra stretch and 49vl5g. he will check with management and update us',\n",
       "       'quote shared with him and he will update us after demo',\n",
       "       'update- as per customer no enquiry was made.',\n",
       "       'looking for commercial tv 55\". details mailed to client,they have no plans for now to buy hence closing in the system.',\n",
       "       'price shared',\n",
       "       'update---27th aug--customer has to come for product demo',\n",
       "       'reseller want to have gem authorization.',\n",
       "       'he is looking for interactive display. quote shared with him.',\n",
       "       'customer budget is 1.25+tax for 75 inch idb. i have given our no regret offer and also explained why lg is better and premium. he said he will come back in a day or two.',\n",
       "       'tried to reach customer but no response. lead forwarded to partner for further follow up',\n",
       "       'already in touch with him since long. he has not finalized yet. lead forwarded to rd',\n",
       "       'low budget', 'exiting customer',\n",
       "       'less than 3 months. customer not answered . to call back',\n",
       "       'drop, wrong number',\n",
       "       'contact details provided are wrong, sent mail for correct contact details.',\n",
       "       'drop, now not intrested',\n",
       "       'quote shared for 86 inch. he is evaluation local brand of trueview',\n",
       "       'details shared with customer, also i had shared lead with rd to take it further',\n",
       "       'call not connecting',\n",
       "       'discussed with the client. he dont have budgets. details mailed. he wont buy now hence closing in the system.',\n",
       "       'client is exploring. he will discuss once details sent. details mailed to him. as per recent discussion, he is not exploring as of now.',\n",
       "       'kinnari eletronis vatwa has bid for the same. and they are going to purchase from them.',\n",
       "       'called to know the price of idb', 'following up',\n",
       "       'asked to call back later, i had shared this lead with rd to take it further.',\n",
       "       'not answering call, sales remarks: tried to reach him multiple times but he is not responding. request to shailja to reconnect with customer. we are dropping this lead for now.',\n",
       "       'dicsussed with client,details shared on mail, client have no budgets to buy now hence closing in the system.',\n",
       "       'update- 8th sept- details shared. will confirm demo schedule of next week.',\n",
       "       'quotation shared with him for idb. he dont have enough fund as of now. he is just evaluating options.',\n",
       "       'demo to be planned', 'purchased viewsonic panel',\n",
       "       'already working with end user on this requirement.',\n",
       "       'he is requesting demo in aligarh-up, plz share to up person.',\n",
       "       'one month', 'purchased some local panel, budget issue',\n",
       "       'he has asked to connect next week. he want to see the physical demo.',\n",
       "       'price share with customer. our rd is following up with him but customer is not responding',\n",
       "       'provided model and price as per requirement.',\n",
       "       'details shared, to plan demo in december',\n",
       "       '14th-feb-2022 shared details.awaiting update from customer.',\n",
       "       'existing case worked by our disti, crew business, hence closing as client is only checking for commercials',\n",
       "       'drop, already done with partner',\n",
       "       'mayur electronic connect with client',\n",
       "       'spoke with shubham who is student. he said he will speak with his sir and revert back after 2 weeks.',\n",
       "       '45 days',\n",
       "       'email send for details. client is exploring on solutions but only for their undertanding.',\n",
       "       'need to do domestic trade biz', 'call back tomorrow 28/09',\n",
       "       'already purchase with rd', 'not responding.', 'september 2022',\n",
       "       'we are already in touch with this cutsomer from last 2 years, he has never purchased any product till date. i called him up twice but no reponse.',\n",
       "       'existing partner, discussed and addressed the concern. the partner had taken pricing and wanted to re-check as the model quoted is changed.',\n",
       "       'drop, requirement of interactive touch screen to supply in govt., conncgt with partner',\n",
       "       'discussed with client, they were just evaluating the product, they have no plans to buy the same, hence closing in the system.',\n",
       "       'spoken to partner, have no any requierements for now, have mailed the details to him, he wont purchase any skus for now hence closing in the system.',\n",
       "       'update- 14th sept-- more details to be shared by client',\n",
       "       'we were already working here, we are facing challenge as we dont have 49vl5g in stock. order lost in march due to unavailabilty of 49vl5g.',\n",
       "       'quote shared with customer. he will revert with an update',\n",
       "       'update-- 4th aug--detailed discussion to be done on 6th aug',\n",
       "       'discussed with client. they need 24 inch display for digital signage. mentioned for our available sizes, he shall revert.',\n",
       "       'the rerquirement is for pune. emailed client looping pune team to meet and visit the client.',\n",
       "       'details send quote require', 'small size tab required',\n",
       "       'the client is looking for small size displays of 20 inch to 25 inch to mount on ref. the budget is 4k to 6k. not exactly our requirement',\n",
       "       'not answering tried several times. details shared with rd.',\n",
       "       'project cancle', 'want to take retail monitor',\n",
       "       'asked to call back tomorrow, i had shared this enquiry with rd.',\n",
       "       'budget problem', 'conference/meeting room/collaboration spaces',\n",
       "       'client was exploring on products but he dont have any plans to purchase. currently he have holded on his requirement and will connect if it re-iniitaties.',\n",
       "       'very abrupt customer. said the inquiry was made months ago and was rude enough. closing in the system as the client behaviour has no scope to discuss on requirement. need marketing team to check if the case was received in dec or jan as per client.',\n",
       "       'require only cms software.',\n",
       "       'details shared follow up under progress.', 'looking for home use',\n",
       "       'already in touch with partner.', 'meeting date to be finalised',\n",
       "       'phone number not available',\n",
       "       'assigned to partner. intial meeting done. will convert to opp post complete info',\n",
       "       'discussed with partner. he works with cloudwalker and wanted to connect with us for some product details. as of now, dont have any inquiry to work and hence closing in system.',\n",
       "       'update- 9th oct- details shared. will confirm for online demo next week',\n",
       "       'want to do trade product business', 'call not picking',\n",
       "       'requirement is for pune. looped pune team. although the partner is checking prices for an existing case. closing the lead in system as pune team is already working.',\n",
       "       'customer has been not  answering call',\n",
       "       'asked to contact him after 8th jan.',\n",
       "       'we have pitched 110 inch fu under prgress',\n",
       "       'forwarded to aurangabad rd for further process',\n",
       "       'repeat inquiry, we already knew on the client requirement. we are in touch with them and if any requirement comes, we will udpate. as of now, the transparent led they need is not available with us and the available product cost expectation is very low wit',\n",
       "       'already working on idb will create opp post clarfying on signage',\n",
       "       'he is an event organization and looking for rental displays. hence dropping in system.',\n",
       "       \"partner is working on existing requirement. he is connected with our disti's for billing.\",\n",
       "       'customer getting price from jaipur which low than our operating price.',\n",
       "       'client is cross checking on prices. its a rc case of subway and the franchisee is trying to get pricing from elsewhere.',\n",
       "       'no response on mails from the client. couldnt find any contact details on net as well. hence dropping in the system. although idb and onequick details shared on email.',\n",
       "       'busy, call later', 'will come back once it is required',\n",
       "       'update--14th sept--customer will discuss in detail tomorrow',\n",
       "       'already connect with partner', 'requirement of 65tr3dj',\n",
       "       'discussed with client, details shared on mail client have no purchase plans for now hence closing the same in system.',\n",
       "       'not picking calls, called many times',\n",
       "       'already touch with customer for kiosk requirement',\n",
       "       'he want 32 inch tv for signage. details shared with him.',\n",
       "       'no response', 'under discussion, requirement not dinalised yet',\n",
       "       'less than 5 months', 'communication number not available.',\n",
       "       'discussed with client. details mailed client dont have budget for purchase now hence closing in the system',\n",
       "       'update--4th aug--customer visiting experience centre on 8th sept',\n",
       "       'he is looking for consumer product for home',\n",
       "       'need for home segment. they purchased vu 85 inch tv for their home',\n",
       "       'call back later, in first week march',\n",
       "       'duplicate lead - il220100042906. discussed with client. their vc hall is under development. onequick details mailed to client. they will call us for demo and purchase finalization once their vc place is ready.',\n",
       "       'customer is busy ask us to call again ,following',\n",
       "       'update- details already shared with customer. evaluation is on going.',\n",
       "       'dont have budget. he want dot led',\n",
       "       'quotation shared with customer, he will confirm back after discussing with management 09-06-2022- as on today 14-06-2022- not answering call hence  i am dropping this lead. details shred with rd take it for further',\n",
       "       'duplicate lead - il220100042906. less than 3 months',\n",
       "       'we are not going to match technical specification',\n",
       "       'requirement of video wall. client is cheking on prices. already 2 partners working. its ongoing case hence clising in system.',\n",
       "       'looking for not made in china active outdoor led for government project',\n",
       "       'at present not required,',\n",
       "       'client is not having any requirement, he was only browsing through the produt hence closig in system. although the details of idb are mailed to client.',\n",
       "       '4/8 months',\n",
       "       'discussed with client,details mailed for idb and one quick, they have no plan to buy for now hence closing in the system.',\n",
       "       '9 months - 1 year', '14:00~15:00',\n",
       "       'price shared with customer. he is looking for some idbs. need to take follow up',\n",
       "       'require demo after 20 may.',\n",
       "       'mailed details & price of 55 inches', 'november 22',\n",
       "       'not responding',\n",
       "       'asked to call back tomorrow morning, not responding',\n",
       "       'not required now', 'drop, not intrested',\n",
       "       'he is in discussion internally and will update.',\n",
       "       'drop, lookong for consumer product', 'última revisión: 26/07/21',\n",
       "       'etc.',\n",
       "       'asked to share details on mail. he will update if there is any requirement',\n",
       "       'the client is not having any requirement he was just browsing for products hence closig in system. although the details of idb and video walls are mailed to client.',\n",
       "       '25-nov-2021  no mobile number, sent a mail to customer',\n",
       "       'quote shared with him.', 'not responding to calls',\n",
       "       'up to december'], dtype=object)"
      ]
     },
     "execution_count": 133,
     "metadata": {},
     "output_type": "execute_result"
    }
   ],
   "source": [
    "df['expected_timeline'].unique()"
   ]
  },
  {
   "cell_type": "code",
   "execution_count": 134,
   "id": "9550669f",
   "metadata": {},
   "outputs": [],
   "source": [
    "def clean_expected_timeline(df):\n",
    "    mapping_dict = {\n",
    "        'less_than_3_months': 'less than 3 months',\n",
    "        '3_months_~_6_months': '3 months ~ 6 months',\n",
    "        '9_months_~_1_year': '9 months ~ 1 year',\n",
    "        '6_months_~_9_months': '9 months ~ 1 year',\n",
    "        'more_than_a_year': 'more than a year',\n",
    "        'less then 6 months': '3 months ~ 6 months',\n",
    "        'less than 5 months': '3 months ~ 6 months',\n",
    "        'more then 3 months': '3 months ~ 6 months',\n",
    "        'less than 3 months. customer not answered . to call back': 'less than 3 months',\n",
    "        'one month': 'less than 3 months',\n",
    "        'duplicate lead - il220100042906. less than 3 months': 'less than 3 months',\n",
    "        '9 months - 1 year': '9 months ~ 1 year',\n",
    "        'less than 3 months ,meeting with the customer for the more details and tentative boq will ne 32 and 43': 'less than 3 months',\n",
    "        'less than 3 months- outdoor led requiment': 'less than 3 months'\n",
    "    }\n",
    "\n",
    "    valid_values = ['less than 3 months', '3 months ~ 6 months', '6 months ~ 9 months', '9 months ~ 1 year', 'more than a year']\n",
    "\n",
    "    df['expected_timeline'] = df['expected_timeline'].replace(mapping_dict)\n",
    "    df['expected_timeline'] = df['expected_timeline'].apply(lambda x: x if x in valid_values else 'unknown')\n",
    "\n",
    "    return df"
   ]
  },
  {
   "cell_type": "code",
   "execution_count": 135,
   "id": "eea9b24f",
   "metadata": {},
   "outputs": [
    {
     "data": {
      "text/plain": [
       "unknown                31690\n",
       "less than 3 months     17331\n",
       "3 months ~ 6 months     5041\n",
       "more than a year        3027\n",
       "9 months ~ 1 year       1112\n",
       "6 months ~ 9 months     1098\n",
       "Name: expected_timeline, dtype: int64"
      ]
     },
     "execution_count": 135,
     "metadata": {},
     "output_type": "execute_result"
    }
   ],
   "source": [
    "df = clean_expected_timeline(df)\n",
    "df['expected_timeline'].value_counts()"
   ]
  },
  {
   "cell_type": "code",
   "execution_count": 136,
   "id": "9accca67",
   "metadata": {},
   "outputs": [
    {
     "data": {
      "text/plain": [
       "unknown                2408\n",
       "less than 3 months     1734\n",
       "3 months ~ 6 months     426\n",
       "more than a year        272\n",
       "9 months ~ 1 year       264\n",
       "6 months ~ 9 months     167\n",
       "Name: expected_timeline, dtype: int64"
      ]
     },
     "execution_count": 136,
     "metadata": {},
     "output_type": "execute_result"
    }
   ],
   "source": [
    "test = clean_expected_timeline(test)\n",
    "test['expected_timeline'].value_counts()"
   ]
  },
  {
   "cell_type": "code",
   "execution_count": 137,
   "id": "b99e1b1b",
   "metadata": {},
   "outputs": [
    {
     "data": {
      "text/plain": [
       "<Figure size 2160x1080 with 0 Axes>"
      ]
     },
     "metadata": {},
     "output_type": "display_data"
    },
    {
     "data": {
      "image/png": "[encoded data removed]",
      "text/plain": [
       "<Figure size 432x288 with 1 Axes>"
      ]
     },
     "metadata": {},
     "output_type": "display_data"
    }
   ],
   "source": [
    "# 고객의 문의 유형별 전환비율\n",
    "\n",
    "category_counts = df.groupby(['expected_timeline', 'is_converted']).size().unstack(fill_value=0)\n",
    "\n",
    "# 'is_converted'가 True인 비율 계산\n",
    "category_counts['true_ratio'] = category_counts[True] / (category_counts[True] + category_counts[False])\n",
    "\n",
    "# 시각화\n",
    "plt.figure(figsize=(30, 15))\n",
    "\n",
    "# seaborn 스타일 설정\n",
    "sns.set_style(\"whitegrid\")\n",
    "\n",
    "# 색상 팔레트 설정\n",
    "colors = sns.color_palette(\"pastel\")\n",
    "\n",
    "# 그래프 생성\n",
    "ax = category_counts.plot(kind='bar', stacked=True, color=colors)\n",
    "\n",
    "# 텍스트 스타일 조정\n",
    "for i, value in enumerate(category_counts['true_ratio']):\n",
    "    ax.text(i, value, f'{value:.2f}', ha='center', va='bottom', color='black')\n",
    "\n",
    "# 그래프 제목 및 축 라벨 스타일 조정\n",
    "plt.title('Conversion Ratio by expected_timeline', fontsize=16)\n",
    "plt.xlabel('expected_timeline', fontsize=14)\n",
    "plt.ylabel('Count', fontsize=14)\n",
    "plt.xticks(rotation=45, ha='right', fontsize=12)\n",
    "plt.yticks(fontsize=12)\n",
    "plt.legend(title='expected_timeline', fontsize=12, title_fontsize='14', loc='upper right')\n",
    "\n",
    "# 그래프 출력\n",
    "plt.tight_layout()\n",
    "plt.show()"
   ]
  },
  {
   "cell_type": "markdown",
   "id": "d6dee29b",
   "metadata": {},
   "source": [
    "# product info\n",
    "### product_category & product_subcategory"
   ]
  },
  {
   "cell_type": "code",
   "execution_count": 138,
   "id": "e247e12a",
   "metadata": {},
   "outputs": [
    {
     "data": {
      "text/plain": [
       "(32.671714531442355, 35.24947827736673)"
      ]
     },
     "execution_count": 138,
     "metadata": {},
     "output_type": "execute_result"
    }
   ],
   "source": [
    "missing_value_ratio(df, 'product_category'), missing_value_ratio(test, 'product_category')"
   ]
  },
  {
   "cell_type": "code",
   "execution_count": 139,
   "id": "9fc71722",
   "metadata": {},
   "outputs": [
    {
     "data": {
      "text/plain": [
       "358"
      ]
     },
     "execution_count": 139,
     "metadata": {},
     "output_type": "execute_result"
    }
   ],
   "source": [
    "len(df['product_category'].unique())"
   ]
  },
  {
   "cell_type": "code",
   "execution_count": 140,
   "id": "1f013c4f",
   "metadata": {},
   "outputs": [
    {
     "data": {
      "text/plain": [
       "array(['multi-split', 'single-split', 'vrf', 'chiller', 'etc.', 'rac',\n",
       "       'teto ou cassete inverter', nan, 'software solution',\n",
       "       'all lg vrf systems', 'ventilation',\n",
       "       'a thermodynamic water heater', 'residential air conditioner',\n",
       "       'outros', 'heating', 'multi v5 vrf', 'split tunggal',\n",
       "       'multi inverter', 'חימום', 'standard signage',\n",
       "       'high brightness signage', 'interactive signage',\n",
       "       'video wall signage', 'led signage', 'hotel tv',\n",
       "       'signage care solution', 'oled signage', 'idb', 'video wall',\n",
       "       'one:quick series', 'commercial tv', 'lg one:quick',\n",
       "       'special signage', 'other', 'accessories', 'commercial display',\n",
       "       'interactive digital board', 'standard', 'uhd signage',\n",
       "       'smart tv signage', 'lg one:quick series', 'pro:centric', 'ur640',\n",
       "       'ur640s', 'webos', 'signage care solutions', 'aio | one quick',\n",
       "       'high brightness', 'hospital tv', 'digital signage', 'monitor',\n",
       "       'pc', 'laptop', 'projector', 'cloud device', 'medical display',\n",
       "       'washing machine,dryer', 'solar,chiller', 'system ac,rac',\n",
       "       'monitor signage,commercial tv,monior/monitor tv',\n",
       "       'monitor signage,monior/monitor tv', 'aircare,built-in/cooking',\n",
       "       'monitor signage,commercial tv,monior/monitor tv,projector,tv',\n",
       "       'monitor signage,commercial tv,monior/monitor tv,tv',\n",
       "       'commercial tv,tv',\n",
       "       'monitor signage,commercial tv,solar,ess,monior/monitor tv,pc,projector,robot,system ac,ems,rac,chill',\n",
       "       'monior/monitor tv,tv', 'chiller,aircare', 'solar,aircare',\n",
       "       'commercial tv,audio/video', 'solar,ess', 'solar,system ac',\n",
       "       'ultra stretch series', '互動式顯示屏', 'led 顯示屏', 'one quick works',\n",
       "       'fhd series', 'onequick series', '標準顯示屏', '43us660h0sd.awz',\n",
       "       '50uq801c0sb.bwz', 'one quick:flex', 'led aio 136',\n",
       "       '110 + video wall', 'aio', 'tv', 'videowall signage', '酒店電視',\n",
       "       'robots', 'one:quick flex', 'tv signage', 'collaboration displays',\n",
       "       'oled 顯示屏', 'id',\n",
       "       'meeting & screen sharedirect view leddirect view led',\n",
       "       'window facing display', 'lg customer care program', 'led',\n",
       "       'lainnya', 'multi v', 'control', 'מזגנים למקום מגורים',\n",
       "       'pendingin', 'multi v 5 air', 'ar condicionado residencial',\n",
       "       'مبرد (تشيلر)', 'multi v water 5', 'single split', 'ahu',\n",
       "       'multi split', 'lg home bliss air solution',\n",
       "       'lg paradise air solution', 'isıtma', 'technical support',\n",
       "       'تكييفات', 'sales inquiry', 'פיצול מרובה', 'تكييف وتبريد', 'אחר',\n",
       "       'vrf,multi-split', 'vrf,multi-split,chiller',\n",
       "       'vrf,multi-split,single-split,chiller,heating', 'error',\n",
       "       'medical displays', 'others', '28mq780', 'computer monitors',\n",
       "       'monitor & pc', 'medical monitors', 'system air conditioner',\n",
       "       'system ac,solar,washing machine', 'solar,ess,ems', 'tv,mobile',\n",
       "       'commercial tv,projector', 'aircare,water care',\n",
       "       'monior/monitor tv,chiller', 'system ac,chiller',\n",
       "       'system ac,aircare', 'monitor signage,commercial tv',\n",
       "       'system ac,tv', 'monitor signage,audio/video',\n",
       "       'monitor signage,commercial tv,solar,ess,monior/monitor tv,pc',\n",
       "       'monitor signage,pc', 'monitor signage,commercial tv,solar,ess',\n",
       "       'solar', 'energy storage system',\n",
       "       'monior/monitor tv,system ac,tv,refrigerator,washing machine,dryer,built-in/cooking',\n",
       "       'commercial tv,robot', 'monitor signage,solar', 'solar,projector',\n",
       "       'tv,audio/video', 'refrigerator', 'solar,dryer',\n",
       "       'solar,monior/monitor tv', 'chiller,dryer', 'monior/monitor tv,pc',\n",
       "       'solar,refrigerator', 'monitor signage,system ac',\n",
       "       'system air conditioner,solar', 'solar,tv', 'monitor signage,tv',\n",
       "       'dryer,chiller',\n",
       "       'monitor signage,monior/monitor tv,system ac,vacuum cleaner,tv,home beauty,commercial tv,mobile,audio',\n",
       "       'videwall', 'ultra stretch signage', 'solar,vacuum cleaner',\n",
       "       'solar,monior/monitor tv,pc,tv,refrigerator,washing machine,dryer,home beauty',\n",
       "       'monitor signage,solar,robot,water care', 'mobile,audio/video',\n",
       "       'system ac,refrigerator,washing machine,dryer',\n",
       "       'solar,system ac,aircare', 'projector,system ac,water care',\n",
       "       'chiller,water care',\n",
       "       'monior/monitor tv,tv,commercial tv,pc,refrigerator,solar,rac,washing machine,mobile,ess,audio/video',\n",
       "       'ess,chiller', 'monitor signage,monior/monitor tv,pc,tv',\n",
       "       'solar,water care', 'digital signage or commercial tvs',\n",
       "       'education createboard', 'virtual production', 'laec015',\n",
       "       'monitor signage,commercial tv,audio/video',\n",
       "       'solar,built-in/cooking',\n",
       "       'monitor signage,monior/monitor tv,commercial tv',\n",
       "       'commercial tv,monior/monitor tv', 'robot,system ac',\n",
       "       '55us660h0sd.bwz', 'transparent oled', 'medical- surgical',\n",
       "       'radiology displays', 'high inch 86 / 98 or 110', 'leadallin',\n",
       "       'ฯลฯ', 'commercial tv,water care', 'pc,washing machine',\n",
       "       'monitor signage,solar,monior/monitor tv,pc,projector,robot,system ac,tv,refrigerator,washing machine',\n",
       "       'system ac,tv,refrigerator,washing machine,built-in/cooking,audio/video',\n",
       "       'system air conditioner,energy storage system', 'tv,commercial tv',\n",
       "       'system ac,home beauty', 'information display,monitor',\n",
       "       'taa lcd lfd displays', 'rac/cac', 'حلول التدفئة',\n",
       "       'system ac,chiller,aircare', 'otros',\n",
       "       'tv,refrigerator,washing machine',\n",
       "       'monior/monitor tv,refrigerator',\n",
       "       'monior/monitor tv,system ac,tv,pc,refrigerator,water care,solar,washing machine,mobile,chiller,built',\n",
       "       'projector,audio/video', 'monior/monitor tv,audio/video',\n",
       "       'monitor signage,commercial tv,monior/monitor tv,pc,tv,home beauty,audio/video',\n",
       "       'pc,robot,system ac,chiller,tv,refrigerator,washing machine,vacuum cleaner,styler,dryer,mobile,audio/',\n",
       "       'refrigerator,washing machine,built-in/cooking',\n",
       "       'monitor signage,monior/monitor tv,tv,audio/video',\n",
       "       'tv,refrigerator,washing machine,vacuum cleaner,audio/video',\n",
       "       'pc,tv', 'system ac', 'sac', 'laec015-gn.awz', 'gscd046',\n",
       "       '32lq621cbsb.awz', '43uh5f-h.awzm', '49vl5g-m.awzm',\n",
       "       '55uq801c0sb.bwz', '43uq751c0sf.bwz', '32 / 43 pol', 'htv',\n",
       "       '43uq751c0sb.bwz', '49uh / 49xf', '50us660h0sd.bwz', 'tv 60\"',\n",
       "       'medical monitor', 'aircare,mobile', 'solar,ess,system ac',\n",
       "       'system ac,refrigerator', 'tv,pc',\n",
       "       'monitor signage,commercial tv,solar,pc,projector,system ac,ems,rac,chiller,refrigerator,washing mach',\n",
       "       'chiller,refrigerator',\n",
       "       'monitor signage,commercial tv,solar,projector,robot,chiller,refrigerator,built-in/cooking,water care',\n",
       "       'commercial tv,solar', 'monior/monitor tv,projector,audio/video',\n",
       "       'unitario', 'refrigerator,chiller', 'chiller,tv', 'projector,ems',\n",
       "       'cac', 'vrf,chiller', 'single package', 'monitor signage,mobile',\n",
       "       'robot,vacuum cleaner',\n",
       "       'monitor signage,commercial tv,monior/monitor tv,audio/video',\n",
       "       'điều hòa trung tâm multi', 'ogrzewanie (pompy ciepła)',\n",
       "       'soğutucu', 'điều hòa gia dụng', 'نظام التدفق المتغيرvrf',\n",
       "       'chiller/enfriadoras', '49vl5g-m', 'lg led bloc', 'uh', '55vm5e-a',\n",
       "       'laec15', '55vm5j-h', '49vl5f', 'standalone', 'corpouh5f',\n",
       "       'ledallinone', 'monitorindustrial_rmk', 'lg magnit', '特別顯示屏',\n",
       "       'signage', 'videowall_rmk', 'bu50nst', 'led 70m2', 'led cinema',\n",
       "       '86uh5f', '55tc3d', '43us660h (na)', 'pro centric hotel',\n",
       "       'video wall + aio', 'hospitality', 'one:quick', '高亮度顯示屏',\n",
       "       'comercial tv', 'corpuh5f-', 'allinone_rmk', 'hoteleria_us670h',\n",
       "       'retaildigital', '軟體', '醫院電視', 'ctv', 'calefacción', 'autre',\n",
       "       'vb.', 'ac rumah', 'เครื่องปรับอากาศเผื่อที่อยู่อาศัย',\n",
       "       'aire acondicionado residencial', 'vrf - multi v s',\n",
       "       'systèmes de débit à réfrigérant variable (drv)',\n",
       "       'climatiseur résidentiel', 'multi-split (plusieurs pièces)',\n",
       "       'aquecimento', 'khác', 'lg salang air solution for dream homes',\n",
       "       'rac single cac', 'services', 'آخر', 'vrf,single-split',\n",
       "       'vrf,multi-split,single-split,chiller,etc.',\n",
       "       'multi-split,single-split', 'vrf,multi-split,single-split',\n",
       "       'vrf,multi-split,etc.', 'vrf,multi-split,heating',\n",
       "       'on or several reversible ac',\n",
       "       'vrf,multi-split,single-split,chiller',\n",
       "       'vrf,multi-split,single-split,heating', 'vrf,single-split,chiller',\n",
       "       'commercial tv,solar,ess,projector,system ac,tv,washing machine,home beauty,audio/video',\n",
       "       'solar,robot', 'scroll compressor', 'pantalla led outdoor',\n",
       "       'klimatyzacja multi-split',\n",
       "       'monitor signage,commercial tv,monior/monitor tv,pc,projector,tv,audio/video',\n",
       "       'not specified', 'single cac', 'kimatyzacja vrf',\n",
       "       'solar,energy storage system', 'system ac,solar',\n",
       "       'solar,system ac,water care', '55svh7f-a', 'tr3', '98uh5e', 'inne',\n",
       "       'điều hòa trung tâm vrf', 'vrf,heating',\n",
       "       'monitor signage,monior/monitor tv,vacuum cleaner,tv,home beauty,commercial tv,pc,refrigerator,styler',\n",
       "       'refrigerator,built-in/cooking', 'ems,audio/video',\n",
       "       'projector,ems,mobile,audio/video', 'smart tv', 'tv 55\"',\n",
       "       'surgical monitor', 'gsca046', 'gscd100', 'procentric', '32 pol',\n",
       "       'tv 43 pol', '43 pol',\n",
       "       'commercial tv,solar,ess,monior/monitor tv,pc,projector,robot,system ac,ems,rac,chiller,refrigerator,',\n",
       "       'tv,refrigerator', 'a definir', 'điều hòa trung tâm chiller',\n",
       "       'điều hòa cục bộ', 'lsca039', 'essential series', 'parts',\n",
       "       'monior/monitor tv,refrigerator,audio/video'], dtype=object)"
      ]
     },
     "execution_count": 140,
     "metadata": {},
     "output_type": "execute_result"
    }
   ],
   "source": [
    "df['product_category'].unique()"
   ]
  },
  {
   "cell_type": "code",
   "execution_count": 141,
   "id": "3f0f9ca6",
   "metadata": {},
   "outputs": [
    {
     "data": {
      "text/plain": [
       "array([nan, 'hospital tv', 'led signage', 'cloud device',\n",
       "       'standard signage', 'interactive signage', 'multi-split',\n",
       "       'video wall signage', 'vrf', 'monitor', 'etc.', 'heating',\n",
       "       'ventilation', 'control', 'single-split',\n",
       "       'high brightness signage', 'chiller', 'oled signage',\n",
       "       'special signage', 'hotel tv', 'projector', 'medical display',\n",
       "       'signage care solution', 'ess', 'laptop',\n",
       "       'interactive digital board', 'pro:centric', 'software solution',\n",
       "       'others', 'one:quick series', 'webos', 'notebook', 'accessories',\n",
       "       'other'], dtype=object)"
      ]
     },
     "execution_count": 141,
     "metadata": {},
     "output_type": "execute_result"
    }
   ],
   "source": [
    "test['product_category'].unique()"
   ]
  },
  {
   "cell_type": "code",
   "execution_count": 142,
   "id": "1f83075d",
   "metadata": {},
   "outputs": [],
   "source": [
    "def categorize_product_categories(df):\n",
    "\n",
    "    rules = {\n",
    "        'medical': 'medical|radiology|surgical|healthcare',\n",
    "        'display and signage': 'display|signage|tv|led|oled|projector|vide|quick|monitor|pc|series|webos|virtual production|ur640|high brightness|idb|43us660h0sd.awz|board|28mq780|32lq621cbsb.awz|互動式顯示屏|32lq621cbsb.awz|特別顯示屏|definir|醫院電視|軟體|retaildigital|高亮度顯示屏|magnit|uh|aio|酒店電視|פיצול מרובה|3|4|0|5|allinone|leadallin|標準顯示屏|standalone|hospitality',\n",
    "        'mobile and portable devices': 'notebook|accessories|outros|cloud|mobile|laptop|otros|control|אחר|unitario|ฯลฯ|آخر|lainnya|parts|autre|khác',\n",
    "        'air conditioning and heating': 'air condition|split|chiller|heating|heater|air|vrf|rac|teto ou cassete inverter|ventilation|ar condicionado residencial|multi|pompy ciepła|ac|multi v water 5|isıtma|calefacción|single package|حلول التدفئة|pendingin|réfrigérant|تكييف وتبريد|تكييفات|مبرد|מזגנים|تكييف وتبريد|חימום|điều hòa|aquecimento|vb.|เครื่องปรับอากาศเผื่อที่อยู่อาศัย|ahu|scroll compressor|résidentiel',\n",
    "        'software and services': 'software|service|customer|technical|sales|centric|sac|id',\n",
    "        'solar system': 'solar|energy|ess',\n",
    "        'home appliances': 'washing|machine|vacuum|styler|home|beauty|cooking|built|robot|refrigerator|soğutucu',\n",
    "        'others': 'other|error|not specified|inne|etc'\n",
    "    }\n",
    "    \n",
    "    for category, pattern in rules.items():\n",
    "        mask = df['product_category'].str.contains(pattern, case=False, na=False)\n",
    "        df.loc[mask, 'product_category'] = category\n",
    "    \n",
    "    return df"
   ]
  },
  {
   "cell_type": "code",
   "execution_count": 143,
   "id": "6110420b",
   "metadata": {},
   "outputs": [
    {
     "data": {
      "text/plain": [
       "display and signage             20088\n",
       "air conditioning and heating    15707\n",
       "others                           2053\n",
       "medical                          1011\n",
       "mobile and portable devices       616\n",
       "software and services             398\n",
       "solar system                       34\n",
       "home appliances                    14\n",
       "standard                            4\n",
       "Name: product_category, dtype: int64"
      ]
     },
     "execution_count": 143,
     "metadata": {},
     "output_type": "execute_result"
    }
   ],
   "source": [
    "df = categorize_product_categories(df)\n",
    "df['product_category'].value_counts()"
   ]
  },
  {
   "cell_type": "code",
   "execution_count": 144,
   "id": "f3131ed0",
   "metadata": {},
   "outputs": [
    {
     "data": {
      "text/plain": [
       "air conditioning and heating    1646\n",
       "display and signage             1452\n",
       "others                           207\n",
       "mobile and portable devices       51\n",
       "medical                           32\n",
       "software and services             21\n",
       "solar system                       4\n",
       "Name: product_category, dtype: int64"
      ]
     },
     "execution_count": 144,
     "metadata": {},
     "output_type": "execute_result"
    }
   ],
   "source": [
    "test = categorize_product_categories(test)\n",
    "test['product_category'].value_counts()"
   ]
  },
  {
   "cell_type": "code",
   "execution_count": 145,
   "id": "b0b446f3",
   "metadata": {},
   "outputs": [
    {
     "data": {
      "text/html": [
       "<div>\n",
       "<style scoped>\n",
       "    .dataframe tbody tr th:only-of-type {\n",
       "        vertical-align: middle;\n",
       "    }\n",
       "\n",
       "    .dataframe tbody tr th {\n",
       "        vertical-align: top;\n",
       "    }\n",
       "\n",
       "    .dataframe thead th {\n",
       "        text-align: right;\n",
       "    }\n",
       "</style>\n",
       "<table border=\"1\" class=\"dataframe\">\n",
       "  <thead>\n",
       "    <tr style=\"text-align: right;\">\n",
       "      <th></th>\n",
       "      <th>product_category</th>\n",
       "      <th>product_subcategory</th>\n",
       "    </tr>\n",
       "  </thead>\n",
       "  <tbody>\n",
       "    <tr>\n",
       "      <th>388</th>\n",
       "      <td>display and signage</td>\n",
       "      <td>New High Haze UHD Standard Signage</td>\n",
       "    </tr>\n",
       "    <tr>\n",
       "      <th>389</th>\n",
       "      <td>display and signage</td>\n",
       "      <td>Window Facing Display</td>\n",
       "    </tr>\n",
       "    <tr>\n",
       "      <th>390</th>\n",
       "      <td>display and signage</td>\n",
       "      <td>LG CreateBoard</td>\n",
       "    </tr>\n",
       "    <tr>\n",
       "      <th>391</th>\n",
       "      <td>display and signage</td>\n",
       "      <td>UR640S Series</td>\n",
       "    </tr>\n",
       "    <tr>\n",
       "      <th>392</th>\n",
       "      <td>display and signage</td>\n",
       "      <td>TR3DJ Series</td>\n",
       "    </tr>\n",
       "    <tr>\n",
       "      <th>...</th>\n",
       "      <td>...</td>\n",
       "      <td>...</td>\n",
       "    </tr>\n",
       "    <tr>\n",
       "      <th>59151</th>\n",
       "      <td>display and signage</td>\n",
       "      <td>LG LED Bloc</td>\n",
       "    </tr>\n",
       "    <tr>\n",
       "      <th>59152</th>\n",
       "      <td>display and signage</td>\n",
       "      <td>LG LED Bloc</td>\n",
       "    </tr>\n",
       "    <tr>\n",
       "      <th>59153</th>\n",
       "      <td>display and signage</td>\n",
       "      <td>Outdoor Display</td>\n",
       "    </tr>\n",
       "    <tr>\n",
       "      <th>59154</th>\n",
       "      <td>display and signage</td>\n",
       "      <td>Outdoor Display</td>\n",
       "    </tr>\n",
       "    <tr>\n",
       "      <th>59161</th>\n",
       "      <td>display and signage</td>\n",
       "      <td>Window Facing Display</td>\n",
       "    </tr>\n",
       "  </tbody>\n",
       "</table>\n",
       "<p>8876 rows × 2 columns</p>\n",
       "</div>"
      ],
      "text/plain": [
       "          product_category                 product_subcategory\n",
       "388    display and signage  New High Haze UHD Standard Signage\n",
       "389    display and signage               Window Facing Display\n",
       "390    display and signage                      LG CreateBoard\n",
       "391    display and signage                       UR640S Series\n",
       "392    display and signage                        TR3DJ Series\n",
       "...                    ...                                 ...\n",
       "59151  display and signage                         LG LED Bloc\n",
       "59152  display and signage                         LG LED Bloc\n",
       "59153  display and signage                     Outdoor Display\n",
       "59154  display and signage                     Outdoor Display\n",
       "59161  display and signage               Window Facing Display\n",
       "\n",
       "[8876 rows x 2 columns]"
      ]
     },
     "execution_count": 145,
     "metadata": {},
     "output_type": "execute_result"
    }
   ],
   "source": [
    "# 잘 mapping되었는지 확인\n",
    "product_notna = df[df['product_category'].notna() & df['product_subcategory'].notna()]\n",
    "product_notna[['product_category', 'product_subcategory']]"
   ]
  },
  {
   "cell_type": "markdown",
   "id": "2a7e1468",
   "metadata": {},
   "source": [
    "# LG\n",
    "- business_unit MQL 요청 상품에 대응되는 사업부\n",
    "- response_corporate 담당 자사 법인명\n",
    "- lead_owner 영업 담당자 이름"
   ]
  },
  {
   "cell_type": "code",
   "execution_count": 146,
   "id": "2c837b3f",
   "metadata": {},
   "outputs": [
    {
     "data": {
      "text/plain": [
       "array(['corporate / office', nan, 'education', 'hotel & accommodation',\n",
       "       'hospital & health care', 'special purpose', 'residential (home)',\n",
       "       'government department', 'retail', 'factory',\n",
       "       'power plant / renewable energy', 'transportation',\n",
       "       'public facility'], dtype=object)"
      ]
     },
     "execution_count": 146,
     "metadata": {},
     "output_type": "execute_result"
    }
   ],
   "source": [
    "df['business_area'].unique()"
   ]
  },
  {
   "cell_type": "markdown",
   "id": "be946a46",
   "metadata": {},
   "source": [
    "# Customer\n",
    "- business_area\n",
    "- business_subarea"
   ]
  },
  {
   "cell_type": "code",
   "execution_count": 147,
   "id": "25e2f8b8",
   "metadata": {},
   "outputs": [
    {
     "data": {
      "text/plain": [
       "68.94214067690855"
      ]
     },
     "execution_count": 147,
     "metadata": {},
     "output_type": "execute_result"
    }
   ],
   "source": [
    "missing_value_ratio(df, 'business_area')"
   ]
  },
  {
   "cell_type": "code",
   "execution_count": 148,
   "id": "7bd86193",
   "metadata": {},
   "outputs": [
    {
     "data": {
      "text/plain": [
       "array(['corporate / office', nan, 'education', 'hotel & accommodation',\n",
       "       'hospital & health care', 'special purpose', 'residential (home)',\n",
       "       'government department', 'retail', 'factory',\n",
       "       'power plant / renewable energy', 'transportation',\n",
       "       'public facility'], dtype=object)"
      ]
     },
     "execution_count": 148,
     "metadata": {},
     "output_type": "execute_result"
    }
   ],
   "source": [
    "df['business_area'].unique()"
   ]
  },
  {
   "cell_type": "code",
   "execution_count": 149,
   "id": "5537f05d",
   "metadata": {},
   "outputs": [
    {
     "data": {
      "text/plain": [
       "array(['IT'], dtype=object)"
      ]
     },
     "execution_count": 149,
     "metadata": {},
     "output_type": "execute_result"
    }
   ],
   "source": [
    "df.loc[df['it_strategic_ver']==1.0, 'business_unit'].unique()"
   ]
  },
  {
   "cell_type": "code",
   "execution_count": 150,
   "id": "b065dcd5",
   "metadata": {},
   "outputs": [
    {
     "data": {
      "text/plain": [
       "array(['AS', 'ID', 'IT', 'Solution', 'CM'], dtype=object)"
      ]
     },
     "execution_count": 150,
     "metadata": {},
     "output_type": "execute_result"
    }
   ],
   "source": [
    "df['business_unit'].unique()"
   ]
  },
  {
   "cell_type": "markdown",
   "id": "8594968f",
   "metadata": {},
   "source": [
    "# ver_pro\n",
    "- 특정 Vertical Level 1(사업영역) 이면서 특정 Product Category(제품 유형)인 경우에 대한 가중치"
   ]
  },
  {
   "cell_type": "code",
   "execution_count": 160,
   "id": "09edc5b6",
   "metadata": {},
   "outputs": [
    {
     "data": {
      "text/plain": [
       "array(['display and signage'], dtype=object)"
      ]
     },
     "execution_count": 160,
     "metadata": {},
     "output_type": "execute_result"
    }
   ],
   "source": [
    "df.loc[df['ver_pro']==1.0, 'product_category'].unique()"
   ]
  },
  {
   "cell_type": "markdown",
   "id": "50d0429e",
   "metadata": {},
   "source": [
    "# ver_win_ratio_per_bu"
   ]
  },
  {
   "cell_type": "code",
   "execution_count": 158,
   "id": "a50f247b",
   "metadata": {},
   "outputs": [
    {
     "data": {
      "text/html": [
       "<div>\n",
       "<style scoped>\n",
       "    .dataframe tbody tr th:only-of-type {\n",
       "        vertical-align: middle;\n",
       "    }\n",
       "\n",
       "    .dataframe tbody tr th {\n",
       "        vertical-align: top;\n",
       "    }\n",
       "\n",
       "    .dataframe thead th {\n",
       "        text-align: right;\n",
       "    }\n",
       "</style>\n",
       "<table border=\"1\" class=\"dataframe\">\n",
       "  <thead>\n",
       "    <tr style=\"text-align: right;\">\n",
       "      <th></th>\n",
       "      <th>ver_win_ratio_per_bu</th>\n",
       "      <th>business_unit</th>\n",
       "    </tr>\n",
       "  </thead>\n",
       "  <tbody>\n",
       "    <tr>\n",
       "      <th>0</th>\n",
       "      <td>0.026846</td>\n",
       "      <td>AS</td>\n",
       "    </tr>\n",
       "    <tr>\n",
       "      <th>1</th>\n",
       "      <td>0.026846</td>\n",
       "      <td>AS</td>\n",
       "    </tr>\n",
       "    <tr>\n",
       "      <th>2</th>\n",
       "      <td>0.026846</td>\n",
       "      <td>AS</td>\n",
       "    </tr>\n",
       "    <tr>\n",
       "      <th>3</th>\n",
       "      <td>0.026846</td>\n",
       "      <td>AS</td>\n",
       "    </tr>\n",
       "    <tr>\n",
       "      <th>4</th>\n",
       "      <td>0.026846</td>\n",
       "      <td>AS</td>\n",
       "    </tr>\n",
       "    <tr>\n",
       "      <th>...</th>\n",
       "      <td>...</td>\n",
       "      <td>...</td>\n",
       "    </tr>\n",
       "    <tr>\n",
       "      <th>59294</th>\n",
       "      <td>0.028777</td>\n",
       "      <td>AS</td>\n",
       "    </tr>\n",
       "    <tr>\n",
       "      <th>59295</th>\n",
       "      <td>0.028777</td>\n",
       "      <td>AS</td>\n",
       "    </tr>\n",
       "    <tr>\n",
       "      <th>59296</th>\n",
       "      <td>0.028777</td>\n",
       "      <td>AS</td>\n",
       "    </tr>\n",
       "    <tr>\n",
       "      <th>59297</th>\n",
       "      <td>0.028777</td>\n",
       "      <td>AS</td>\n",
       "    </tr>\n",
       "    <tr>\n",
       "      <th>59298</th>\n",
       "      <td>NaN</td>\n",
       "      <td>Solution</td>\n",
       "    </tr>\n",
       "  </tbody>\n",
       "</table>\n",
       "<p>59299 rows × 2 columns</p>\n",
       "</div>"
      ],
      "text/plain": [
       "       ver_win_ratio_per_bu business_unit\n",
       "0                  0.026846            AS\n",
       "1                  0.026846            AS\n",
       "2                  0.026846            AS\n",
       "3                  0.026846            AS\n",
       "4                  0.026846            AS\n",
       "...                     ...           ...\n",
       "59294              0.028777            AS\n",
       "59295              0.028777            AS\n",
       "59296              0.028777            AS\n",
       "59297              0.028777            AS\n",
       "59298                   NaN      Solution\n",
       "\n",
       "[59299 rows x 2 columns]"
      ]
     },
     "execution_count": 158,
     "metadata": {},
     "output_type": "execute_result"
    }
   ],
   "source": [
    "df[['ver_win_ratio_per_bu', 'business_unit']]"
   ]
  },
  {
   "cell_type": "code",
   "execution_count": 164,
   "id": "14611cf4",
   "metadata": {},
   "outputs": [
    {
     "data": {
      "text/plain": [
       "array(['Enterprise', 'SMB'], dtype=object)"
      ]
     },
     "execution_count": 164,
     "metadata": {},
     "output_type": "execute_result"
    }
   ],
   "source": [
    "df.loc[df['customer_type']=='End-Customer', 'enterprise'].unique()"
   ]
  },
  {
   "cell_type": "code",
   "execution_count": 166,
   "id": "6b8f7f44",
   "metadata": {},
   "outputs": [
    {
     "data": {
      "text/plain": [
       "array(['consulting', nan, 'information technology', 'sales',\n",
       "       'engineering', 'marketing', 'purchasing', 'others', 'operations',\n",
       "       'support', 'finance', 'business development', 'administrative',\n",
       "       'education', 'product management',\n",
       "       'program and project management', 'entrepreneurship',\n",
       "       'community and social services', 'media and communication',\n",
       "       'arts and design', 'healthcare services', 'accounting',\n",
       "       'medical imaging specialist', 'clinical specialist', 'curation',\n",
       "       'other', '3d/vfx art', 'legal', 'radiology professional',\n",
       "       'military and protective services', 'real estate',\n",
       "       'human resources', 'healthcare', 'electronics & telco',\n",
       "       'quality assurance', 'pathologist', 'research',\n",
       "       'surgery professional', 'film production', 'k12 school',\n",
       "       'media and communications', 'medical solution provider'],\n",
       "      dtype=object)"
      ]
     },
     "execution_count": 166,
     "metadata": {},
     "output_type": "execute_result"
    }
   ],
   "source": [
    "test['customer_job'].unique()"
   ]
  },
  {
   "cell_type": "code",
   "execution_count": null,
   "id": "88aaf64a",
   "metadata": {},
   "outputs": [],
   "source": []
  }
 ],
 "metadata": {
  "kernelspec": {
   "display_name": "Python 3 (ipykernel)",
   "language": "python",
   "name": "python3"
  },
  "language_info": {
   "codemirror_mode": {
    "name": "ipython",
    "version": 3
   },
   "file_extension": ".py",
   "mimetype": "text/x-python",
   "name": "python",
   "nbconvert_exporter": "python",
   "pygments_lexer": "ipython3",
   "version": "3.9.12"
  }
 },
 "nbformat": 4,
 "nbformat_minor": 5
}
