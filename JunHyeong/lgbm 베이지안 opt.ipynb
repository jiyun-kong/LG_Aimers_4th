{
 "cells": [
  {
   "cell_type": "code",
   "execution_count": 1,
   "id": "6bc072a0-bd4e-4eee-800c-0db6f88e2e4a",
   "metadata": {},
   "outputs": [
    {
     "name": "stdout",
     "output_type": "stream",
     "text": [
      "Collecting bayesian-optimization\n",
      "  Downloading bayesian_optimization-1.4.3-py3-none-any.whl (18 kB)\n",
      "Requirement already satisfied: numpy>=1.9.0 in c:\\users\\parkjunhyeong\\anaconda3\\lib\\site-packages (from bayesian-optimization) (1.24.3)\n",
      "Requirement already satisfied: scipy>=1.0.0 in c:\\users\\parkjunhyeong\\anaconda3\\lib\\site-packages (from bayesian-optimization) (1.11.4)\n",
      "Requirement already satisfied: scikit-learn>=0.18.0 in c:\\users\\parkjunhyeong\\anaconda3\\lib\\site-packages (from bayesian-optimization) (1.3.0)\n",
      "Requirement already satisfied: colorama>=0.4.6 in c:\\users\\parkjunhyeong\\anaconda3\\lib\\site-packages (from bayesian-optimization) (0.4.6)\n",
      "Requirement already satisfied: joblib>=1.1.1 in c:\\users\\parkjunhyeong\\anaconda3\\lib\\site-packages (from scikit-learn>=0.18.0->bayesian-optimization) (1.2.0)\n",
      "Requirement already satisfied: threadpoolctl>=2.0.0 in c:\\users\\parkjunhyeong\\anaconda3\\lib\\site-packages (from scikit-learn>=0.18.0->bayesian-optimization) (2.2.0)\n",
      "Installing collected packages: bayesian-optimization\n",
      "Successfully installed bayesian-optimization-1.4.3\n",
      "Note: you may need to restart the kernel to use updated packages.\n"
     ]
    }
   ],
   "source": [
    "pip install bayesian-optimization"
   ]
  },
  {
   "cell_type": "code",
   "execution_count": null,
   "id": "5db038a9-99a9-4167-b9e5-d3b4b987c329",
   "metadata": {},
   "outputs": [],
   "source": [
    "from bayes_opt import BayesianOptimization\n",
    "from sklearn.metrics import roc_auc_score\n",
    "from lightgbm import LGBMClassifier                      #이정도면 50분 걸림 (6core cpu), 교차검증하면 6시간"
   ]
  },
  {
   "cell_type": "markdown",
   "id": "31a29af3-204e-4b24-a530-f6800e04a549",
   "metadata": {},
   "source": [
    "### train 준비.  평가지표는 eval_metric 이랑 roc_auc_score부분 수정."
   ]
  },
  {
   "cell_type": "markdown",
   "id": "2130c9a7-9c44-42f0-826e-813eb6c1b4c5",
   "metadata": {},
   "source": [
    "## 옵션 1 (cv 없이) 사이킷런 래퍼 사용"
   ]
  },
  {
   "cell_type": "code",
   "execution_count": null,
   "id": "2405e1ad-df12-41e5-8830-a71e8cf78f1e",
   "metadata": {},
   "outputs": [],
   "source": [
    "X = train.drop(['TARGET'], axis=1)        #대회진행중이면 val 따로 뺴놓고 갖고오자\n",
    "y = train['TARGET']\n",
    "\n",
    "train_x, valid_x, train_y, valid_y = train_test_split(X, y, test_size=0.3, random_state=0)"
   ]
  },
  {
   "cell_type": "code",
   "execution_count": null,
   "id": "f6432176-058d-4603-ba03-5d6180a67e49",
   "metadata": {},
   "outputs": [],
   "source": [
    "# parameter 별로 search할 범위를 설정. \n",
    "bayesian_params = {\n",
    "    'max_depth': (6, 16),                 #이상\n",
    "    'num_leaves': (24, 64), \n",
    "    'min_child_samples': (10, 200), \n",
    "    'min_child_weight':(1, 50),    \n",
    "    'subsample':(0.5, 1.0),               #이상 \n",
    "    'colsample_bytree': (0.5, 1.0),       #고정\n",
    "    'max_bin':(10, 500),                  #이상 \n",
    "    'reg_lambda':(0.001, 10),             \n",
    "    'reg_alpha': (0.01, 50) \n",
    "}"
   ]
  },
  {
   "cell_type": "code",
   "execution_count": null,
   "id": "add042b1-4e94-4a93-9ef7-a4295beefde5",
   "metadata": {},
   "outputs": [],
   "source": [
    "def lgb_roc_eval(max_depth, num_leaves, min_child_samples, min_child_weight, subsample, \n",
    "                colsample_bytree,max_bin, reg_lambda, reg_alpha):\n",
    "    params = {\n",
    "        \"n_estimators\":500, \"learning_rate\":0.02,\n",
    "        'max_depth': int(round(max_depth)),  #  호출 시 실수형 값이 들어오므로 정수형 하이퍼 파라미터는 정수형으로 변경 \n",
    "        'num_leaves': int(round(num_leaves)), \n",
    "        'min_child_samples': int(round(min_child_samples)),\n",
    "        'min_child_weight': int(round(min_child_weight)),\n",
    "        'subsample': max(min(subsample, 1), 0), \n",
    "        'colsample_bytree': max(min(colsample_bytree, 1), 0),\n",
    "        'max_bin':  max(int(round(max_bin)),10),            #10이상이 일반적\n",
    "        'reg_lambda': max(reg_lambda,0),                    #0이상이 일반적\n",
    "        'reg_alpha': max(reg_alpha, 0)\n",
    "    }\n",
    "    print(params)\n",
    "    \n",
    "    lgb_model = LGBMClassifier(**params)\n",
    "    lgb_model.fit(train_x, train_y, eval_set=[(train_x, train_y), (valid_x, valid_y)], eval_metric= 'auc', verbose= 100, \n",
    "                early_stopping_rounds= 100)\n",
    "    valid_proba = lgb_model.predict_proba(valid_x)[:, 1]\n",
    "    roc_auc = roc_auc_score(valid_y, valid_proba)\n",
    "    \n",
    "    return roc_auc   "
   ]
  },
  {
   "cell_type": "code",
   "execution_count": null,
   "id": "d77f138e-701c-4c64-9ff6-b7d61e50e19c",
   "metadata": {},
   "outputs": [],
   "source": [
    "lgbBO = BayesianOptimization(lgb_roc_eval,bayesian_params , random_state=0)\n",
    "lgbBO.maximize(init_points=5, n_iter=25)      \n"
   ]
  },
  {
   "cell_type": "code",
   "execution_count": null,
   "id": "e4102c08-3c78-44b4-9c80-095504ba60a5",
   "metadata": {},
   "outputs": [],
   "source": [
    "#lgbBO.res                #수행기록, target은 내가 지정한 평가지표 값"
   ]
  },
  {
   "cell_type": "code",
   "execution_count": null,
   "id": "e4f7bde3-28c5-4ff4-ad12-e564bcafda78",
   "metadata": {},
   "outputs": [],
   "source": [
    "target_list = []                   #최적의 파라미터를 추출\n",
    "for result in lgbBO.res:\n",
    "    target = result['target']\n",
    "    target_list.append(target)\n",
    "\n",
    "max_dict = lgbBO.res[np.argmax(np.array(target_list))]  \n",
    "print(max_dict)"
   ]
  },
  {
   "cell_type": "markdown",
   "id": "58334212-9dd5-46ea-aeb4-00fd6cdfc030",
   "metadata": {},
   "source": [
    "## 옵션2 (CV 수행), lgbm 래퍼 사용 (하이퍼파라미터 단어가 좀 다름)"
   ]
  },
  {
   "cell_type": "code",
   "execution_count": null,
   "id": "89d9afaa-b987-4f16-b462-8ea551861578",
   "metadata": {},
   "outputs": [],
   "source": [
    "X = train.drop(['TARGET'], axis=1)        #대회진행중이면 val 따로 뺴놓고 갖고오자\n",
    "y = train['TARGET']"
   ]
  },
  {
   "cell_type": "code",
   "execution_count": null,
   "id": "2106e5bf-d759-4754-a8c2-edaf73050a0a",
   "metadata": {},
   "outputs": [],
   "source": [
    "bayesian_params = {                    \n",
    "    'max_depth': (6, 16), \n",
    "    'num_leaves': (24, 64), \n",
    "    'min_data_in_leaf': (10, 200), # min_child_samples\n",
    "    'min_child_weight':(1, 50),\n",
    "    'bagging_fraction':(0.5, 1.0), # subsample\n",
    "    'feature_fraction': (0.5, 1.0), # colsample_bytree\n",
    "    'max_bin':(10, 500),\n",
    "    'lambda_l2':(0.001, 10), # reg_lambda\n",
    "    'lambda_l1': (0.01, 50) # reg_alpha\n",
    "}"
   ]
  },
  {
   "cell_type": "code",
   "execution_count": null,
   "id": "9fc668c2-5a38-4861-abef-ad9653273467",
   "metadata": {},
   "outputs": [],
   "source": [
    "import lightgbm as lgb\n",
    "\n",
    "train_data = lgb.Dataset(data=train, label=y, free_raw_data=False)   #free_raw_data 이게 뭐야\n",
    "\n",
    "def lgb_roc_eval_cv(max_depth, num_leaves, min_data_in_leaf, min_child_weight, bagging_fraction, \n",
    "                 feature_fraction,  max_bin, lambda_l2, lambda_l1):   \n",
    "    params = {\n",
    "        \"num_iterations\":500, \"learning_rate\":0.02,\n",
    "        'early_stopping_rounds':100, 'metric':'auc',\n",
    "        'max_depth': int(round(max_depth)), #  호출 시 실수형 값이 들어오므로 실수형 하이퍼 파라미터는 정수형으로 변경 \n",
    "        'num_leaves': int(round(num_leaves)), \n",
    "        'min_data_in_leaf': int(round(min_data_in_leaf)),\n",
    "        'min_child_weight': int(round(min_child_weight)),\n",
    "        'bagging_fraction': max(min(bagging_fraction, 1), 0), \n",
    "        'feature_fraction': max(min(feature_fraction, 1), 0),\n",
    "        'max_bin':  max(int(round(max_bin)),10),\n",
    "        'lambda_l2': max(lambda_l2,0),\n",
    "        'lambda_l1': max(lambda_l1, 0)\n",
    "    }\n",
    "    # 파이썬 lightgbm의 cv 메소드를 사용. cross_cal_score는 early stopping안된다고 함\n",
    "    cv_result = lgb.cv(params, train_data, nfold=3, seed=0,  verbose_eval =100,  early_stopping_rounds=50, metrics=['auc'])\n",
    "    return max(cv_result['auc-mean'])   "
   ]
  },
  {
   "cell_type": "code",
   "execution_count": null,
   "id": "66a48c43-73ca-47d3-b5d8-f252eb63b8f6",
   "metadata": {},
   "outputs": [],
   "source": [
    "max_dict = lgbBO.res[np.argmax(np.array(target_list))]\n",
    "print(max_dict)"
   ]
  },
  {
   "cell_type": "code",
   "execution_count": null,
   "id": "f117be91-9d4a-40cc-8496-53959a45b14a",
   "metadata": {},
   "outputs": [],
   "source": []
  },
  {
   "cell_type": "code",
   "execution_count": null,
   "id": "a1850197-955e-4f84-bc01-160e28bd3ba0",
   "metadata": {},
   "outputs": [],
   "source": []
  },
  {
   "cell_type": "markdown",
   "id": "efbe86a2-a030-4b51-8a72-9f95286fdaad",
   "metadata": {},
   "source": [
    "#### 최종평가. 최적의 파라미터로 다시 예측 (trian준비) -> 이거 fmin 자동화코드 갖고 오자"
   ]
  },
  {
   "cell_type": "markdown",
   "id": "af0b32ba-8261-4f2d-bfd6-153e62fc5864",
   "metadata": {},
   "source": [
    "## 옵션1 용 "
   ]
  },
  {
   "cell_type": "code",
   "execution_count": null,
   "id": "976086d5-d644-4216-8fac-ef054a0d366f",
   "metadata": {},
   "outputs": [],
   "source": [
    "def train_apps_all(train):\n",
    "    \n",
    "    X = train.drop(['TARGET'], axis=1)\n",
    "    y =  train['TARGET']\n",
    "\n",
    "    train_x, valid_x, train_y, valid_y = train_test_split(X, y, test_size=0.3, random_state=0)\n",
    "    \n",
    "    clf = LGBMClassifier(             #수작업으로 채워넣기 \n",
    "                nthread=4,\n",
    "                n_estimators=1000,\n",
    "                learning_rate=0.02,\n",
    "                max_depth = 13,\n",
    "                num_leaves=57,\n",
    "                colsample_bytree=0.638,\n",
    "                subsample=0.682,\n",
    "                max_bin=435,\n",
    "                reg_alpha=0.936,\n",
    "                reg_lambda=4.533,\n",
    "                min_child_weight=25,\n",
    "                min_child_samples=166,\n",
    "                silent=-1,\n",
    "                verbose=-1,\n",
    "                )\n",
    "\n",
    "    clf.fit(train_x, train_y, eval_set=[(train_x, train_y), (valid_x, valid_y)], eval_metric= 'auc', verbose= 100, \n",
    "                early_stopping_rounds= 100)\n",
    "    \n",
    "    return clf"
   ]
  },
  {
   "cell_type": "markdown",
   "id": "5ab62e28-19df-486c-b6a9-611cb85619fc",
   "metadata": {},
   "source": [
    "## 옵션2 용"
   ]
  },
  {
   "cell_type": "code",
   "execution_count": null,
   "id": "f2193db0-d94f-49da-b0ab-54e9feeeb0e5",
   "metadata": {},
   "outputs": [],
   "source": [
    "# def train_apps_all(apps_all_train):\n",
    "    \n",
    "#     X = train.drop(['TARGET'], axis=1)\n",
    "#     y =  train['TARGET']\n",
    "#     train_x, valid_x, train_y, valid_y = train_test_split(X, y, test_size=0.3, random_state=0)\n",
    "    \n",
    "#     clf = LGBMClassifier(\n",
    "#                 nthread=4,       #tn\n",
    "#                 n_estimators=1000,\n",
    "#                 learning_rate=0.02,\n",
    "#                 max_depth = 10,\n",
    "#                 num_leaves=60,\n",
    "#                 colsample_bytree=0.511,\n",
    "#                 subsample=0.785,\n",
    "#                 max_bin=208,\n",
    "#                 reg_alpha=7.009,\n",
    "#                 reg_lambda=6.579,\n",
    "#                 min_child_weight=40,\n",
    "#                 min_child_samples=91,\n",
    "#                 silent=-1,\n",
    "#                 verbose=-1,\n",
    "#                 )\n",
    "\n",
    "#     clf.fit(train_x, train_y, eval_set=[(train_x, train_y), (valid_x, valid_y)], eval_metric= 'auc', verbose= 100, \n",
    "#                 early_stopping_rounds= 100)\n",
    "    \n",
    "#     return clf"
   ]
  },
  {
   "cell_type": "code",
   "execution_count": null,
   "id": "7b192bc8-702d-4017-a6e4-3d7611f1669c",
   "metadata": {},
   "outputs": [],
   "source": [
    "clf = train_apps_all(train)"
   ]
  },
  {
   "cell_type": "code",
   "execution_count": null,
   "id": "5fc9b3a4-5d76-4b4a-bd5f-03f62083feee",
   "metadata": {},
   "outputs": [],
   "source": [
    "preds = clf.predict(x_test)          #예측 진행 , 제출하고 싶으면 제출\n",
    "roc_auc = roc_auc_score(y_test, preds)\n",
    "print(roc_auc)"
   ]
  },
  {
   "cell_type": "code",
   "execution_count": null,
   "id": "8de607e6-b252-4123-82f6-642497dddf2a",
   "metadata": {},
   "outputs": [],
   "source": []
  },
  {
   "cell_type": "code",
   "execution_count": null,
   "id": "38ab1028-698a-4cce-a5d6-e6d15a9f080d",
   "metadata": {},
   "outputs": [],
   "source": []
  },
  {
   "cell_type": "code",
   "execution_count": null,
   "id": "a133e848-0911-469e-84f5-849bdbe9e287",
   "metadata": {},
   "outputs": [],
   "source": []
  },
  {
   "cell_type": "code",
   "execution_count": null,
   "id": "959f7341-7470-452a-ba40-1ac82cfa1540",
   "metadata": {},
   "outputs": [],
   "source": []
  },
  {
   "cell_type": "code",
   "execution_count": null,
   "id": "c520fb57-9ef2-4af5-9b42-6c9d70b7b6cd",
   "metadata": {},
   "outputs": [],
   "source": []
  },
  {
   "cell_type": "code",
   "execution_count": null,
   "id": "0d79c48b-c3f7-455e-ac70-f2b3a538e549",
   "metadata": {},
   "outputs": [],
   "source": []
  },
  {
   "cell_type": "code",
   "execution_count": null,
   "id": "17d3b2e4-f048-4f2a-96c9-833e0c52284a",
   "metadata": {},
   "outputs": [],
   "source": []
  },
  {
   "cell_type": "code",
   "execution_count": null,
   "id": "e0ea804c-2499-402a-88df-3e906a90ca44",
   "metadata": {},
   "outputs": [],
   "source": []
  },
  {
   "cell_type": "code",
   "execution_count": null,
   "id": "33958d99-0803-4998-af4b-3e1ac5b40012",
   "metadata": {},
   "outputs": [],
   "source": []
  },
  {
   "cell_type": "code",
   "execution_count": null,
   "id": "edf6b8f1-798a-4792-8b0b-bfcae6f9d8de",
   "metadata": {},
   "outputs": [],
   "source": []
  },
  {
   "cell_type": "code",
   "execution_count": null,
   "id": "9b3f6825-b0e3-4fba-9cd9-413f119ba9ab",
   "metadata": {},
   "outputs": [],
   "source": []
  },
  {
   "cell_type": "code",
   "execution_count": null,
   "id": "63d8b22b-1b39-4e36-b7cf-b40d7f159361",
   "metadata": {},
   "outputs": [],
   "source": []
  },
  {
   "cell_type": "code",
   "execution_count": null,
   "id": "3b96e492-c3f1-463e-ab7a-ecbce7675231",
   "metadata": {},
   "outputs": [],
   "source": []
  }
 ],
 "metadata": {
  "kernelspec": {
   "display_name": "Python 3 (ipykernel)",
   "language": "python",
   "name": "python3"
  },
  "language_info": {
   "codemirror_mode": {
    "name": "ipython",
    "version": 3
   },
   "file_extension": ".py",
   "mimetype": "text/x-python",
   "name": "python",
   "nbconvert_exporter": "python",
   "pygments_lexer": "ipython3",
   "version": "3.11.5"
  }
 },
 "nbformat": 4,
 "nbformat_minor": 5
}
